{
 "cells": [
  {
   "cell_type": "code",
   "execution_count": 1,
   "id": "beb82f56-73b2-44b8-8240-05e842f7b7de",
   "metadata": {},
   "outputs": [],
   "source": [
    "%load_ext autoreload\n",
    "%autoreload 2"
   ]
  },
  {
   "cell_type": "code",
   "execution_count": 23,
   "id": "0dca44a6-8c88-44ef-9f75-88da2e5271e3",
   "metadata": {},
   "outputs": [],
   "source": [
    "from google.cloud.bigquery import *"
   ]
  },
  {
   "cell_type": "code",
   "execution_count": 24,
   "id": "e60e93e5-2131-4189-a1df-71fc6a0ef772",
   "metadata": {},
   "outputs": [],
   "source": [
    "from utils.bqutils import connect, init_catalog"
   ]
  },
  {
   "cell_type": "code",
   "execution_count": 25,
   "id": "77b4c4a7-43d9-4a5b-ae7a-6284893e1ebe",
   "metadata": {},
   "outputs": [],
   "source": [
    "client = connect('bqresearch')"
   ]
  },
  {
   "cell_type": "code",
   "execution_count": 26,
   "id": "00c0bc7f-7ad9-42c8-98fb-1273eeaa68a9",
   "metadata": {},
   "outputs": [],
   "source": [
    "catalog = init_catalog()"
   ]
  },
  {
   "cell_type": "markdown",
   "id": "7b68a1ed-2cd6-4bd1-a2a2-ce04c60156a6",
   "metadata": {},
   "source": [
    "### Population"
   ]
  },
  {
   "cell_type": "code",
   "execution_count": 36,
   "id": "16fc193e-0a8a-4006-85da-5c597e7154f8",
   "metadata": {},
   "outputs": [],
   "source": [
    "population_per_year_40_49 = client.query(f'''\n",
    "select age, year, population\n",
    "from `coviddatail.staging.population_table`\n",
    "where safe_cast(age as NUMERIC) between 40 and 49\n",
    "and sex='total'\n",
    "and county='total'\n",
    "and area='total'\n",
    "order by year\n",
    "'''\n",
    ").to_dataframe()"
   ]
  },
  {
   "cell_type": "code",
   "execution_count": 40,
   "id": "714267a9-aa2f-4c1f-af86-865b65800b82",
   "metadata": {},
   "outputs": [],
   "source": [
    "population_per_year_40_49.age = pd.to_numeric(population_per_year_40_49.age)\n",
    "population_per_year_40_49.population = pd.to_numeric(population_per_year_40_49.population)\n",
    "population_per_year_40_49.year = pd.to_numeric(population_per_year_40_49.year)\n",
    "population_per_year_40_49 = population_per_year_40_49.groupby('year').sum().reset_index()"
   ]
  },
  {
   "cell_type": "code",
   "execution_count": 48,
   "id": "4d5afccb-cc70-4309-ba04-21984a2daaf6",
   "metadata": {},
   "outputs": [],
   "source": [
    "import numpy as np"
   ]
  },
  {
   "cell_type": "code",
   "execution_count": 53,
   "id": "9ff073ad-185a-44dd-90a1-2452d07fa9d0",
   "metadata": {},
   "outputs": [],
   "source": [
    "population_per_year_40_49_extrapolted = population_per_year_40_49.set_index('year').reindex(np.arange(2000,2022))"
   ]
  },
  {
   "cell_type": "code",
   "execution_count": 55,
   "id": "c3b90863-e94c-410e-a059-56244fc37e5e",
   "metadata": {},
   "outputs": [],
   "source": [
    "population_per_year_40_49_extrapolted.population.values[-1] = \\\n",
    "    population_per_year_40_49_extrapolted.population.values[-3] + (\n",
    "    population_per_year_40_49_extrapolted.population.values[-3] -\n",
    "        population_per_year_40_49_extrapolted.population.values[-4])*2 "
   ]
  },
  {
   "cell_type": "code",
   "execution_count": 58,
   "id": "6b946766-3d83-4607-b4af-eb5226c18e76",
   "metadata": {},
   "outputs": [],
   "source": [
    "population_per_year_40_49_extrapolted = population_per_year_40_49_extrapolted.interpolate()"
   ]
  },
  {
   "cell_type": "code",
   "execution_count": 59,
   "id": "81bcd404-c62a-447c-bcb8-28e1f79389ae",
   "metadata": {},
   "outputs": [
    {
     "data": {
      "text/html": [
       "<div>\n",
       "<style scoped>\n",
       "    .dataframe tbody tr th:only-of-type {\n",
       "        vertical-align: middle;\n",
       "    }\n",
       "\n",
       "    .dataframe tbody tr th {\n",
       "        vertical-align: top;\n",
       "    }\n",
       "\n",
       "    .dataframe thead th {\n",
       "        text-align: right;\n",
       "    }\n",
       "</style>\n",
       "<table border=\"1\" class=\"dataframe\">\n",
       "  <thead>\n",
       "    <tr style=\"text-align: right;\">\n",
       "      <th></th>\n",
       "      <th>age</th>\n",
       "      <th>population</th>\n",
       "    </tr>\n",
       "    <tr>\n",
       "      <th>year</th>\n",
       "      <th></th>\n",
       "      <th></th>\n",
       "    </tr>\n",
       "  </thead>\n",
       "  <tbody>\n",
       "    <tr>\n",
       "      <th>2000</th>\n",
       "      <td>445.0</td>\n",
       "      <td>750,953.0</td>\n",
       "    </tr>\n",
       "    <tr>\n",
       "      <th>2001</th>\n",
       "      <td>445.0</td>\n",
       "      <td>755,313.0</td>\n",
       "    </tr>\n",
       "    <tr>\n",
       "      <th>2002</th>\n",
       "      <td>445.0</td>\n",
       "      <td>757,016.0</td>\n",
       "    </tr>\n",
       "    <tr>\n",
       "      <th>2003</th>\n",
       "      <td>445.0</td>\n",
       "      <td>759,078.0</td>\n",
       "    </tr>\n",
       "    <tr>\n",
       "      <th>2004</th>\n",
       "      <td>445.0</td>\n",
       "      <td>763,585.0</td>\n",
       "    </tr>\n",
       "    <tr>\n",
       "      <th>2005</th>\n",
       "      <td>445.0</td>\n",
       "      <td>767,378.0</td>\n",
       "    </tr>\n",
       "    <tr>\n",
       "      <th>2006</th>\n",
       "      <td>445.0</td>\n",
       "      <td>773,516.0</td>\n",
       "    </tr>\n",
       "    <tr>\n",
       "      <th>2007</th>\n",
       "      <td>445.0</td>\n",
       "      <td>779,153.0</td>\n",
       "    </tr>\n",
       "    <tr>\n",
       "      <th>2008</th>\n",
       "      <td>445.0</td>\n",
       "      <td>814,259.0</td>\n",
       "    </tr>\n",
       "    <tr>\n",
       "      <th>2009</th>\n",
       "      <td>445.0</td>\n",
       "      <td>827,084.0</td>\n",
       "    </tr>\n",
       "    <tr>\n",
       "      <th>2010</th>\n",
       "      <td>445.0</td>\n",
       "      <td>843,603.0</td>\n",
       "    </tr>\n",
       "    <tr>\n",
       "      <th>2011</th>\n",
       "      <td>445.0</td>\n",
       "      <td>865,533.0</td>\n",
       "    </tr>\n",
       "    <tr>\n",
       "      <th>2012</th>\n",
       "      <td>445.0</td>\n",
       "      <td>888,273.0</td>\n",
       "    </tr>\n",
       "    <tr>\n",
       "      <th>2013</th>\n",
       "      <td>445.0</td>\n",
       "      <td>913,553.0</td>\n",
       "    </tr>\n",
       "    <tr>\n",
       "      <th>2014</th>\n",
       "      <td>445.0</td>\n",
       "      <td>940,896.0</td>\n",
       "    </tr>\n",
       "    <tr>\n",
       "      <th>2015</th>\n",
       "      <td>445.0</td>\n",
       "      <td>971,145.0</td>\n",
       "    </tr>\n",
       "    <tr>\n",
       "      <th>2016</th>\n",
       "      <td>445.0</td>\n",
       "      <td>1,002,700.0</td>\n",
       "    </tr>\n",
       "    <tr>\n",
       "      <th>2017</th>\n",
       "      <td>445.0</td>\n",
       "      <td>1,033,573.0</td>\n",
       "    </tr>\n",
       "    <tr>\n",
       "      <th>2018</th>\n",
       "      <td>445.0</td>\n",
       "      <td>1,056,761.0</td>\n",
       "    </tr>\n",
       "    <tr>\n",
       "      <th>2019</th>\n",
       "      <td>445.0</td>\n",
       "      <td>1,080,768.0</td>\n",
       "    </tr>\n",
       "    <tr>\n",
       "      <th>2020</th>\n",
       "      <td>445.0</td>\n",
       "      <td>1,104,775.0</td>\n",
       "    </tr>\n",
       "    <tr>\n",
       "      <th>2021</th>\n",
       "      <td>445.0</td>\n",
       "      <td>1,128,782.0</td>\n",
       "    </tr>\n",
       "  </tbody>\n",
       "</table>\n",
       "</div>"
      ],
      "text/plain": [
       "       age  population\n",
       "year                  \n",
       "2000 445.0   750,953.0\n",
       "2001 445.0   755,313.0\n",
       "2002 445.0   757,016.0\n",
       "2003 445.0   759,078.0\n",
       "2004 445.0   763,585.0\n",
       "2005 445.0   767,378.0\n",
       "2006 445.0   773,516.0\n",
       "2007 445.0   779,153.0\n",
       "2008 445.0   814,259.0\n",
       "2009 445.0   827,084.0\n",
       "2010 445.0   843,603.0\n",
       "2011 445.0   865,533.0\n",
       "2012 445.0   888,273.0\n",
       "2013 445.0   913,553.0\n",
       "2014 445.0   940,896.0\n",
       "2015 445.0   971,145.0\n",
       "2016 445.0 1,002,700.0\n",
       "2017 445.0 1,033,573.0\n",
       "2018 445.0 1,056,761.0\n",
       "2019 445.0 1,080,768.0\n",
       "2020 445.0 1,104,775.0\n",
       "2021 445.0 1,128,782.0"
      ]
     },
     "execution_count": 59,
     "metadata": {},
     "output_type": "execute_result"
    }
   ],
   "source": [
    "population_per_year_40_49_extrapolted"
   ]
  },
  {
   "cell_type": "markdown",
   "id": "55382d0b-5d6e-41c1-b1fa-9e39ffab7dab",
   "metadata": {},
   "source": [
    "### Datagov: vaccinated_age_groups"
   ]
  },
  {
   "cell_type": "code",
   "execution_count": 107,
   "id": "112ed31c-6730-4ece-b95e-c18dcc35f025",
   "metadata": {},
   "outputs": [],
   "source": [
    "vag_fr = client.query(f'''\n",
    "select VaccinationDate as \n",
    "date, \n",
    "age_group, \n",
    "any_value(first_dose) first_dose,\n",
    "any_value(second_dose) second_dose, \n",
    "any_value(third_dose) third_dose from\n",
    "{catalog.coviddatail.staging.vaccinated_age_groups}\n",
    "where age_group = '40-49'\n",
    "group by 1, 2\n",
    "order by VaccinationDate\n",
    "''').to_dataframe()"
   ]
  },
  {
   "cell_type": "code",
   "execution_count": 108,
   "id": "9189a390-48fc-454d-b70d-db2d6cdab6d8",
   "metadata": {},
   "outputs": [
    {
     "data": {
      "text/html": [
       "<div>\n",
       "<style scoped>\n",
       "    .dataframe tbody tr th:only-of-type {\n",
       "        vertical-align: middle;\n",
       "    }\n",
       "\n",
       "    .dataframe tbody tr th {\n",
       "        vertical-align: top;\n",
       "    }\n",
       "\n",
       "    .dataframe thead th {\n",
       "        text-align: right;\n",
       "    }\n",
       "</style>\n",
       "<table border=\"1\" class=\"dataframe\">\n",
       "  <thead>\n",
       "    <tr style=\"text-align: right;\">\n",
       "      <th></th>\n",
       "      <th>date</th>\n",
       "      <th>age_group</th>\n",
       "      <th>first_dose</th>\n",
       "      <th>second_dose</th>\n",
       "      <th>third_dose</th>\n",
       "    </tr>\n",
       "  </thead>\n",
       "  <tbody>\n",
       "    <tr>\n",
       "      <th>0</th>\n",
       "      <td>2020-12-20</td>\n",
       "      <td>40-49</td>\n",
       "      <td>1868</td>\n",
       "      <td>0</td>\n",
       "      <td>0</td>\n",
       "    </tr>\n",
       "    <tr>\n",
       "      <th>1</th>\n",
       "      <td>2020-12-21</td>\n",
       "      <td>40-49</td>\n",
       "      <td>3790</td>\n",
       "      <td>0</td>\n",
       "      <td>0</td>\n",
       "    </tr>\n",
       "    <tr>\n",
       "      <th>2</th>\n",
       "      <td>2020-12-22</td>\n",
       "      <td>40-49</td>\n",
       "      <td>4537</td>\n",
       "      <td>0</td>\n",
       "      <td>0</td>\n",
       "    </tr>\n",
       "    <tr>\n",
       "      <th>3</th>\n",
       "      <td>2020-12-23</td>\n",
       "      <td>40-49</td>\n",
       "      <td>5041</td>\n",
       "      <td>0</td>\n",
       "      <td>0</td>\n",
       "    </tr>\n",
       "    <tr>\n",
       "      <th>4</th>\n",
       "      <td>2020-12-24</td>\n",
       "      <td>40-49</td>\n",
       "      <td>5216</td>\n",
       "      <td>0</td>\n",
       "      <td>0</td>\n",
       "    </tr>\n",
       "    <tr>\n",
       "      <th>...</th>\n",
       "      <td>...</td>\n",
       "      <td>...</td>\n",
       "      <td>...</td>\n",
       "      <td>...</td>\n",
       "      <td>...</td>\n",
       "    </tr>\n",
       "    <tr>\n",
       "      <th>376</th>\n",
       "      <td>2021-12-31</td>\n",
       "      <td>40-49</td>\n",
       "      <td>&lt;15</td>\n",
       "      <td>&lt;15</td>\n",
       "      <td>68</td>\n",
       "    </tr>\n",
       "    <tr>\n",
       "      <th>377</th>\n",
       "      <td>2022-01-01</td>\n",
       "      <td>40-49</td>\n",
       "      <td>&lt;15</td>\n",
       "      <td>&lt;15</td>\n",
       "      <td>26</td>\n",
       "    </tr>\n",
       "    <tr>\n",
       "      <th>378</th>\n",
       "      <td>2022-01-02</td>\n",
       "      <td>40-49</td>\n",
       "      <td>246</td>\n",
       "      <td>244</td>\n",
       "      <td>1302</td>\n",
       "    </tr>\n",
       "    <tr>\n",
       "      <th>379</th>\n",
       "      <td>2022-01-03</td>\n",
       "      <td>40-49</td>\n",
       "      <td>184</td>\n",
       "      <td>193</td>\n",
       "      <td>1039</td>\n",
       "    </tr>\n",
       "    <tr>\n",
       "      <th>380</th>\n",
       "      <td>2022-01-04</td>\n",
       "      <td>40-49</td>\n",
       "      <td>203</td>\n",
       "      <td>206</td>\n",
       "      <td>959</td>\n",
       "    </tr>\n",
       "  </tbody>\n",
       "</table>\n",
       "<p>381 rows × 5 columns</p>\n",
       "</div>"
      ],
      "text/plain": [
       "           date age_group first_dose second_dose third_dose\n",
       "0    2020-12-20     40-49       1868           0          0\n",
       "1    2020-12-21     40-49       3790           0          0\n",
       "2    2020-12-22     40-49       4537           0          0\n",
       "3    2020-12-23     40-49       5041           0          0\n",
       "4    2020-12-24     40-49       5216           0          0\n",
       "..          ...       ...        ...         ...        ...\n",
       "376  2021-12-31     40-49        <15         <15         68\n",
       "377  2022-01-01     40-49        <15         <15         26\n",
       "378  2022-01-02     40-49        246         244       1302\n",
       "379  2022-01-03     40-49        184         193       1039\n",
       "380  2022-01-04     40-49        203         206        959\n",
       "\n",
       "[381 rows x 5 columns]"
      ]
     },
     "execution_count": 108,
     "metadata": {},
     "output_type": "execute_result"
    }
   ],
   "source": [
    "vag_fr.sort_values(by='date')"
   ]
  },
  {
   "cell_type": "code",
   "execution_count": 8,
   "id": "c311919f-f7af-4018-ae45-d06e3530a24d",
   "metadata": {},
   "outputs": [],
   "source": [
    "import pandas as pd"
   ]
  },
  {
   "cell_type": "code",
   "execution_count": 109,
   "id": "102e0e25-58fb-4fa4-a302-b7074b3fd6ba",
   "metadata": {},
   "outputs": [],
   "source": [
    "vag_fr.date = pd.to_datetime(vag_fr.date)"
   ]
  },
  {
   "cell_type": "code",
   "execution_count": 123,
   "id": "5cbdee3d-475f-4c11-95dd-feb719d3c7dd",
   "metadata": {},
   "outputs": [],
   "source": [
    "vag_numeric = vag_fr.copy().sort_values(by='date').set_index('date')\n",
    "vag_numeric['age_group_numeric'] = vag_numeric.age_group.str.split('-').apply(lambda x: x[0])\n",
    "vag_numeric.iloc[:, 1:] = vag_numeric.iloc[:, 1:].replace('<15',0).replace('90+', '90').astype(int)"
   ]
  },
  {
   "cell_type": "code",
   "execution_count": 79,
   "id": "d563a7da-4926-4447-b13c-ade5c2923cc1",
   "metadata": {},
   "outputs": [],
   "source": [
    "vag_grouped = vag_numeric.loc[:, ['date',  'first_dose', 'second_dose', 'third_dose']].groupby('date').max()"
   ]
  },
  {
   "cell_type": "code",
   "execution_count": 67,
   "id": "334a7498-c2cf-48c0-bdd2-5966780bea9b",
   "metadata": {},
   "outputs": [],
   "source": [
    "pd.options.display.float_format = '{:,}'.format"
   ]
  },
  {
   "cell_type": "code",
   "execution_count": 122,
   "id": "fc687351-0a27-47fe-95c7-6c95f251d4ea",
   "metadata": {},
   "outputs": [
    {
     "data": {
      "text/plain": [
       "date\n",
       "2020-12-20    1868\n",
       "2020-12-21    3790\n",
       "2020-12-22    4537\n",
       "2020-12-23    5041\n",
       "2020-12-24    5216\n",
       "              ... \n",
       "2021-12-31     <15\n",
       "2022-01-01     <15\n",
       "2022-01-02     246\n",
       "2022-01-03     184\n",
       "2022-01-04     203\n",
       "Name: first_dose, Length: 381, dtype: object"
      ]
     },
     "execution_count": 122,
     "metadata": {},
     "output_type": "execute_result"
    }
   ],
   "source": [
    "vag_numeric.first_dose"
   ]
  },
  {
   "cell_type": "code",
   "execution_count": 124,
   "id": "51ab8a19-257a-408d-a605-be65c2203084",
   "metadata": {},
   "outputs": [],
   "source": [
    "vag_cummulative = vag_numeric.copy().loc[:, ['first_dose', 'second_dose', 'third_dose']]\n",
    "vag_cummulative = vag_cummulative.cumsum() / 1100000"
   ]
  },
  {
   "cell_type": "code",
   "execution_count": 127,
   "id": "e2326704-fcad-4e3b-9ebb-5efe5a94bf31",
   "metadata": {},
   "outputs": [
    {
     "data": {
      "text/plain": [
       "first_dose     float64\n",
       "second_dose    float64\n",
       "third_dose     float64\n",
       "dtype: object"
      ]
     },
     "execution_count": 127,
     "metadata": {},
     "output_type": "execute_result"
    }
   ],
   "source": [
    "vag_cummulative.dtypes"
   ]
  },
  {
   "cell_type": "code",
   "execution_count": 87,
   "id": "7456f008-adee-4cf2-b91e-ef2a6717d20b",
   "metadata": {},
   "outputs": [],
   "source": [
    "from bokeh_frame import charts"
   ]
  },
  {
   "cell_type": "code",
   "execution_count": 88,
   "id": "bb139ff0-62a6-4a96-9d03-134b6d0f1cd5",
   "metadata": {},
   "outputs": [
    {
     "ename": "AttributeError",
     "evalue": "'DataFrame' object has no attribute 'date'",
     "output_type": "error",
     "traceback": [
      "\u001b[0;31m---------------------------------------------------------------------------\u001b[0m",
      "\u001b[0;31mAttributeError\u001b[0m                            Traceback (most recent call last)",
      "\u001b[0;32m/tmp/ipykernel_588/253118361.py\u001b[0m in \u001b[0;36m<module>\u001b[0;34m\u001b[0m\n\u001b[0;32m----> 1\u001b[0;31m \u001b[0mvag_grouped\u001b[0m\u001b[0;34m.\u001b[0m\u001b[0mdate\u001b[0m \u001b[0;34m=\u001b[0m \u001b[0mpd\u001b[0m\u001b[0;34m.\u001b[0m\u001b[0mto_datetime\u001b[0m\u001b[0;34m(\u001b[0m\u001b[0mvag_grouped\u001b[0m\u001b[0;34m.\u001b[0m\u001b[0mdate\u001b[0m\u001b[0;34m)\u001b[0m\u001b[0;34m\u001b[0m\u001b[0;34m\u001b[0m\u001b[0m\n\u001b[0m",
      "\u001b[0;32m/opt/conda/lib/python3.9/site-packages/pandas/core/generic.py\u001b[0m in \u001b[0;36m__getattr__\u001b[0;34m(self, name)\u001b[0m\n\u001b[1;32m   5485\u001b[0m         ):\n\u001b[1;32m   5486\u001b[0m             \u001b[0;32mreturn\u001b[0m \u001b[0mself\u001b[0m\u001b[0;34m[\u001b[0m\u001b[0mname\u001b[0m\u001b[0;34m]\u001b[0m\u001b[0;34m\u001b[0m\u001b[0;34m\u001b[0m\u001b[0m\n\u001b[0;32m-> 5487\u001b[0;31m         \u001b[0;32mreturn\u001b[0m \u001b[0mobject\u001b[0m\u001b[0;34m.\u001b[0m\u001b[0m__getattribute__\u001b[0m\u001b[0;34m(\u001b[0m\u001b[0mself\u001b[0m\u001b[0;34m,\u001b[0m \u001b[0mname\u001b[0m\u001b[0;34m)\u001b[0m\u001b[0;34m\u001b[0m\u001b[0;34m\u001b[0m\u001b[0m\n\u001b[0m\u001b[1;32m   5488\u001b[0m \u001b[0;34m\u001b[0m\u001b[0m\n\u001b[1;32m   5489\u001b[0m     \u001b[0;32mdef\u001b[0m \u001b[0m__setattr__\u001b[0m\u001b[0;34m(\u001b[0m\u001b[0mself\u001b[0m\u001b[0;34m,\u001b[0m \u001b[0mname\u001b[0m\u001b[0;34m:\u001b[0m \u001b[0mstr\u001b[0m\u001b[0;34m,\u001b[0m \u001b[0mvalue\u001b[0m\u001b[0;34m)\u001b[0m \u001b[0;34m->\u001b[0m \u001b[0;32mNone\u001b[0m\u001b[0;34m:\u001b[0m\u001b[0;34m\u001b[0m\u001b[0;34m\u001b[0m\u001b[0m\n",
      "\u001b[0;31mAttributeError\u001b[0m: 'DataFrame' object has no attribute 'date'"
     ]
    }
   ],
   "source": [
    "vag_grouped.date = pd.to_datetime(vag_grouped.date)"
   ]
  },
  {
   "cell_type": "markdown",
   "id": "7faf8582-5e1a-4400-bc77-3fa1e23111d3",
   "metadata": {},
   "source": [
    "### Bokeh chart "
   ]
  },
  {
   "cell_type": "code",
   "execution_count": 128,
   "id": "d0646f2f-a9ae-4e39-9f7a-6fec9844f6e3",
   "metadata": {},
   "outputs": [
    {
     "data": {
      "text/html": [
       "<div>\n",
       "<style scoped>\n",
       "    .dataframe tbody tr th:only-of-type {\n",
       "        vertical-align: middle;\n",
       "    }\n",
       "\n",
       "    .dataframe tbody tr th {\n",
       "        vertical-align: top;\n",
       "    }\n",
       "\n",
       "    .dataframe thead th {\n",
       "        text-align: right;\n",
       "    }\n",
       "</style>\n",
       "<table border=\"1\" class=\"dataframe\">\n",
       "  <thead>\n",
       "    <tr style=\"text-align: right;\">\n",
       "      <th></th>\n",
       "      <th>first_dose</th>\n",
       "      <th>second_dose</th>\n",
       "      <th>third_dose</th>\n",
       "    </tr>\n",
       "    <tr>\n",
       "      <th>date</th>\n",
       "      <th></th>\n",
       "      <th></th>\n",
       "      <th></th>\n",
       "    </tr>\n",
       "  </thead>\n",
       "  <tbody>\n",
       "    <tr>\n",
       "      <th>2020-12-20</th>\n",
       "      <td>0.001698181818181818</td>\n",
       "      <td>0.0</td>\n",
       "      <td>0.0</td>\n",
       "    </tr>\n",
       "    <tr>\n",
       "      <th>2020-12-21</th>\n",
       "      <td>0.005143636363636363</td>\n",
       "      <td>0.0</td>\n",
       "      <td>0.0</td>\n",
       "    </tr>\n",
       "    <tr>\n",
       "      <th>2020-12-22</th>\n",
       "      <td>0.009268181818181818</td>\n",
       "      <td>0.0</td>\n",
       "      <td>0.0</td>\n",
       "    </tr>\n",
       "    <tr>\n",
       "      <th>2020-12-23</th>\n",
       "      <td>0.01385090909090909</td>\n",
       "      <td>0.0</td>\n",
       "      <td>0.0</td>\n",
       "    </tr>\n",
       "    <tr>\n",
       "      <th>2020-12-24</th>\n",
       "      <td>0.01859272727272727</td>\n",
       "      <td>0.0</td>\n",
       "      <td>0.0</td>\n",
       "    </tr>\n",
       "    <tr>\n",
       "      <th>...</th>\n",
       "      <td>...</td>\n",
       "      <td>...</td>\n",
       "      <td>...</td>\n",
       "    </tr>\n",
       "    <tr>\n",
       "      <th>2021-12-31</th>\n",
       "      <td>0.9086909090909091</td>\n",
       "      <td>0.8448545454545454</td>\n",
       "      <td>0.6500681818181818</td>\n",
       "    </tr>\n",
       "    <tr>\n",
       "      <th>2022-01-01</th>\n",
       "      <td>0.9086909090909091</td>\n",
       "      <td>0.8448545454545454</td>\n",
       "      <td>0.6500918181818182</td>\n",
       "    </tr>\n",
       "    <tr>\n",
       "      <th>2022-01-02</th>\n",
       "      <td>0.9089145454545454</td>\n",
       "      <td>0.8450763636363636</td>\n",
       "      <td>0.6512754545454545</td>\n",
       "    </tr>\n",
       "    <tr>\n",
       "      <th>2022-01-03</th>\n",
       "      <td>0.9090818181818182</td>\n",
       "      <td>0.8452518181818182</td>\n",
       "      <td>0.65222</td>\n",
       "    </tr>\n",
       "    <tr>\n",
       "      <th>2022-01-04</th>\n",
       "      <td>0.9092663636363636</td>\n",
       "      <td>0.8454390909090909</td>\n",
       "      <td>0.6530918181818182</td>\n",
       "    </tr>\n",
       "  </tbody>\n",
       "</table>\n",
       "<p>381 rows × 3 columns</p>\n",
       "</div>"
      ],
      "text/plain": [
       "                     first_dose        second_dose         third_dose\n",
       "date                                                                 \n",
       "2020-12-20 0.001698181818181818                0.0                0.0\n",
       "2020-12-21 0.005143636363636363                0.0                0.0\n",
       "2020-12-22 0.009268181818181818                0.0                0.0\n",
       "2020-12-23  0.01385090909090909                0.0                0.0\n",
       "2020-12-24  0.01859272727272727                0.0                0.0\n",
       "...                         ...                ...                ...\n",
       "2021-12-31   0.9086909090909091 0.8448545454545454 0.6500681818181818\n",
       "2022-01-01   0.9086909090909091 0.8448545454545454 0.6500918181818182\n",
       "2022-01-02   0.9089145454545454 0.8450763636363636 0.6512754545454545\n",
       "2022-01-03   0.9090818181818182 0.8452518181818182            0.65222\n",
       "2022-01-04   0.9092663636363636 0.8454390909090909 0.6530918181818182\n",
       "\n",
       "[381 rows x 3 columns]"
      ]
     },
     "execution_count": 128,
     "metadata": {},
     "output_type": "execute_result"
    }
   ],
   "source": [
    "vag_cummulative"
   ]
  },
  {
   "cell_type": "code",
   "execution_count": 129,
   "id": "7bd7b13a-b264-481b-8f42-072819833c7e",
   "metadata": {},
   "outputs": [
    {
     "data": {
      "text/plain": [
       "DatetimeIndex(['2020-12-20', '2020-12-21', '2020-12-22', '2020-12-23',\n",
       "               '2020-12-24', '2020-12-25', '2020-12-26', '2020-12-27',\n",
       "               '2020-12-28', '2020-12-29',\n",
       "               ...\n",
       "               '2021-12-26', '2021-12-27', '2021-12-28', '2021-12-29',\n",
       "               '2021-12-30', '2021-12-31', '2022-01-01', '2022-01-02',\n",
       "               '2022-01-03', '2022-01-04'],\n",
       "              dtype='datetime64[ns]', name='date', length=381, freq=None)"
      ]
     },
     "execution_count": 129,
     "metadata": {},
     "output_type": "execute_result"
    }
   ],
   "source": [
    "vag_cummulative.index"
   ]
  },
  {
   "cell_type": "code",
   "execution_count": 130,
   "id": "4da49d54-880e-4a1e-ac70-c48b6ed61f4c",
   "metadata": {},
   "outputs": [
    {
     "data": {
      "text/plain": [
       "DatetimeIndex(['2020-12-20', '2020-12-21', '2020-12-22', '2020-12-23',\n",
       "               '2020-12-24', '2020-12-25', '2020-12-26', '2020-12-27',\n",
       "               '2020-12-28', '2020-12-29',\n",
       "               ...\n",
       "               '2021-12-26', '2021-12-27', '2021-12-28', '2021-12-29',\n",
       "               '2021-12-30', '2021-12-31', '2022-01-01', '2022-01-02',\n",
       "               '2022-01-03', '2022-01-04'],\n",
       "              dtype='datetime64[ns]', name='date', length=381, freq=None)"
      ]
     },
     "execution_count": 130,
     "metadata": {},
     "output_type": "execute_result"
    }
   ],
   "source": [
    "vag_cummulative.index"
   ]
  },
  {
   "cell_type": "code",
   "execution_count": 134,
   "id": "89bb2bba-79f6-47bf-9a1b-9ac17df16c34",
   "metadata": {},
   "outputs": [
    {
     "name": "stdout",
     "output_type": "stream",
     "text": [
      "{'first_dose': '@first_dose', 'second_dose': '@second_dose', 'third_dose': '@third_dose', 'date': '@date{%F}'}\n"
     ]
    },
    {
     "data": {
      "text/html": [
       "\n",
       "\n",
       "\n",
       "\n",
       "\n",
       "\n",
       "  <div class=\"bk-root\" id=\"f2c88c23-3b6b-458f-893b-6db6444e2315\" data-root-id=\"5456\"></div>\n"
      ]
     },
     "metadata": {},
     "output_type": "display_data"
    },
    {
     "data": {
      "application/javascript": [
       "(function(root) {\n",
       "  function embed_document(root) {\n",
       "    \n",
       "  const docs_json = {\"d013213a-bc16-4825-a3d5-e19df6952906\":{\"defs\":[],\"roots\":{\"references\":[{\"attributes\":{\"below\":[{\"id\":\"5465\"}],\"center\":[{\"id\":\"5468\"},{\"id\":\"5472\"}],\"height\":400,\"left\":[{\"id\":\"5469\"}],\"renderers\":[{\"id\":\"5489\"},{\"id\":\"5495\"},{\"id\":\"5501\"}],\"title\":{\"id\":\"5787\"},\"toolbar\":{\"id\":\"5479\"},\"width\":1000,\"x_range\":{\"id\":\"5457\"},\"x_scale\":{\"id\":\"5461\"},\"y_range\":{\"id\":\"5459\"},\"y_scale\":{\"id\":\"5463\"}},\"id\":\"5456\",\"subtype\":\"Figure\",\"type\":\"Plot\"},{\"attributes\":{\"coordinates\":null,\"data_source\":{\"id\":\"5455\"},\"glyph\":{\"id\":\"5498\"},\"group\":null,\"hover_glyph\":null,\"muted_glyph\":{\"id\":\"5500\"},\"nonselection_glyph\":{\"id\":\"5499\"},\"view\":{\"id\":\"5502\"}},\"id\":\"5501\",\"type\":\"GlyphRenderer\"},{\"attributes\":{\"callback\":null,\"tooltips\":[[\"first_dose\",\"@first_dose\"],[\"second_dose\",\"@second_dose\"],[\"third_dose\",\"@third_dose\"],[\"date\",\"@date{%F}\"]]},\"id\":\"5503\",\"type\":\"HoverTool\"},{\"attributes\":{\"line_color\":\"blue\",\"x\":{\"field\":\"date\"},\"y\":{\"field\":\"first_dose\"}},\"id\":\"5486\",\"type\":\"Line\"},{\"attributes\":{},\"id\":\"5459\",\"type\":\"DataRange1d\"},{\"attributes\":{},\"id\":\"5791\",\"type\":\"AllLabels\"},{\"attributes\":{},\"id\":\"5474\",\"type\":\"WheelZoomTool\"},{\"attributes\":{},\"id\":\"5795\",\"type\":\"UnionRenderers\"},{\"attributes\":{},\"id\":\"5799\",\"type\":\"UnionRenderers\"},{\"attributes\":{},\"id\":\"5463\",\"type\":\"LinearScale\"},{\"attributes\":{},\"id\":\"5794\",\"type\":\"AllLabels\"},{\"attributes\":{\"base\":24,\"mantissas\":[1,2,4,6,8,12],\"max_interval\":43200000.0,\"min_interval\":3600000.0,\"num_minor_ticks\":0},\"id\":\"5804\",\"type\":\"AdaptiveTicker\"},{\"attributes\":{},\"id\":\"5790\",\"type\":\"BasicTickFormatter\"},{\"attributes\":{\"line_color\":\"violet\",\"x\":{\"field\":\"date\"},\"y\":{\"field\":\"third_dose\"}},\"id\":\"5498\",\"type\":\"Line\"},{\"attributes\":{\"line_alpha\":0.2,\"line_color\":\"violet\",\"x\":{\"field\":\"date\"},\"y\":{\"field\":\"third_dose\"}},\"id\":\"5500\",\"type\":\"Line\"},{\"attributes\":{\"line_alpha\":0.1,\"line_color\":\"blue\",\"x\":{\"field\":\"date\"},\"y\":{\"field\":\"first_dose\"}},\"id\":\"5487\",\"type\":\"Line\"},{\"attributes\":{},\"id\":\"5793\",\"type\":\"DatetimeTickFormatter\"},{\"attributes\":{\"overlay\":{\"id\":\"5478\"}},\"id\":\"5475\",\"type\":\"BoxZoomTool\"},{\"attributes\":{},\"id\":\"5798\",\"type\":\"Selection\"},{\"attributes\":{},\"id\":\"5800\",\"type\":\"Selection\"},{\"attributes\":{\"line_alpha\":0.2,\"line_color\":\"red\",\"x\":{\"field\":\"date\"},\"y\":{\"field\":\"second_dose\"}},\"id\":\"5494\",\"type\":\"Line\"},{\"attributes\":{\"source\":{\"id\":\"5453\"}},\"id\":\"5490\",\"type\":\"CDSView\"},{\"attributes\":{\"tools\":[{\"id\":\"5473\"},{\"id\":\"5474\"},{\"id\":\"5475\"},{\"id\":\"5476\"},{\"id\":\"5477\"},{\"id\":\"5503\"}]},\"id\":\"5479\",\"type\":\"Toolbar\"},{\"attributes\":{},\"id\":\"5473\",\"type\":\"PanTool\"},{\"attributes\":{},\"id\":\"5457\",\"type\":\"DataRange1d\"},{\"attributes\":{\"line_color\":\"red\",\"x\":{\"field\":\"date\"},\"y\":{\"field\":\"second_dose\"}},\"id\":\"5492\",\"type\":\"Line\"},{\"attributes\":{\"axis_label\":\"date\",\"coordinates\":null,\"formatter\":{\"id\":\"5793\"},\"group\":null,\"major_label_policy\":{\"id\":\"5794\"},\"ticker\":{\"id\":\"5466\"}},\"id\":\"5465\",\"type\":\"DatetimeAxis\"},{\"attributes\":{},\"id\":\"5461\",\"type\":\"LinearScale\"},{\"attributes\":{\"base\":60,\"mantissas\":[1,2,5,10,15,20,30],\"max_interval\":1800000.0,\"min_interval\":1000.0,\"num_minor_ticks\":0},\"id\":\"5803\",\"type\":\"AdaptiveTicker\"},{\"attributes\":{\"axis\":{\"id\":\"5469\"},\"coordinates\":null,\"dimension\":1,\"group\":null,\"ticker\":null},\"id\":\"5472\",\"type\":\"Grid\"},{\"attributes\":{},\"id\":\"5476\",\"type\":\"SaveTool\"},{\"attributes\":{\"axis_label\":\"first_dose,second_dose,third_dose\",\"coordinates\":null,\"formatter\":{\"id\":\"5790\"},\"group\":null,\"major_label_policy\":{\"id\":\"5791\"},\"ticker\":{\"id\":\"5470\"}},\"id\":\"5469\",\"type\":\"LinearAxis\"},{\"attributes\":{\"months\":[0,2,4,6,8,10]},\"id\":\"5810\",\"type\":\"MonthsTicker\"},{\"attributes\":{},\"id\":\"5477\",\"type\":\"ResetTool\"},{\"attributes\":{\"days\":[1,4,7,10,13,16,19,22,25,28]},\"id\":\"5806\",\"type\":\"DaysTicker\"},{\"attributes\":{\"source\":{\"id\":\"5454\"}},\"id\":\"5496\",\"type\":\"CDSView\"},{\"attributes\":{\"axis\":{\"id\":\"5465\"},\"coordinates\":null,\"group\":null,\"ticker\":null},\"id\":\"5468\",\"type\":\"Grid\"},{\"attributes\":{\"data\":{\"date\":{\"__ndarray__\":\"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\",\"dtype\":\"float64\",\"order\":\"little\",\"shape\":[381]},\"first_dose\":{\"__ndarray__\":\"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\",\"dtype\":\"float64\",\"order\":\"little\",\"shape\":[381]},\"second_dose\":{\"__ndarray__\":\"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\",\"dtype\":\"float64\",\"order\":\"little\",\"shape\":[381]},\"third_dose\":{\"__ndarray__\":\"AAAAAAAAAAAAAAAAAAAAAAAAAAAAAAAAAAAAAAAAAAAAAAAAAAAAAAAAAAAAAAAAAAAAAAAAAAAAAAAAAAAAAAAAAAAAAAAAAAAAAAAAAAAAAAAAAAAAAAAAAAAAAAAAAAAAAAAAAAAAAAAAAAAAAAAAAAAAAAAAAAAAAAAAAAAAAAAAAAAAAAAAAAAAAAAAAAAAAAAAAAAAAAAAAAAAAAAAAAAAAAAAAAAAAAAAAAAAAAAAAAAAAAAAAAAAAAAAAAAAAAAAAAAAAAAAAAAAAAAAAAAAAAAAAAAAAAAAAAAAAAAAAAAAAAAAAAAAAAAAAAAAAAAAAAAAAAAAAAAAAAAAAAAAAAAAAAAAAAAAAAAAAAAAAAAAAAAAAAAAAAAAAAAAAAAAAAAAAAAAAAAAAAAAAAAAAAAAAAAAAAAAAAAAAAAAAAAAAAAAAAAAAAAAAAAAAAAAAAAAAAAAAAAAAAAAAAAAAAAAAAAAAAAAAAAAAAAAAAAAAAAAAAAAAAAAAAAAAAAAAAAAAAAAAAAAAAAAAAAAAAAAAAAAAAAAAAAAAAAAAAAAAAAAAAAAAAAAAAAAAAAAAAAAAAAAAAAAAAAAAAAAAAAAAAAAAAAAAAAAAAAAAAAAAAAAAAAAAAAAAAAAAAAAAAAAAAAAAAAAAAAAAAAAAAAAAAAAAAAAAAAAAAAAAAAAAAAAAAAAAAAAAAAAAAAAAAAAAAAAAAAAAAAAAAAAAAAAAAAAAAAAAAAAAAAAAAAAAAAAAAAAAAAAAAAAAAAAAAAAAAAAAAAAAAAAAAAAAAAAAAAAAAAAAAAAAAAAAAAAAAAAAAAAAAAAAAAAAAAAAAAAAAAAAAAAAAAAAAAAAAAAAAAAAAAAAAAAAAAAAAAAAAAAAAAAAAAAAAAAAAAAAAAAAAAAAAAAAAAAAAAAAAAAAAAAAAAAAAAAAAAAAAAAAAAAAAAAAAAAAAAAAAAAAAAAAAAAAAAAAAAAAAAAAAAAAAAAAAAAAAAAAAAAAAAAAAAAAAAAAAAAAAAAAAAAAAAAAAAAAAAAAAAAAAAAAAAAAAAAAAAAAAAAAAAAAAAAAAAAAAAAAAAAAAAAAAAAAAAAAAAAAAAAAAAAAAAAAAAAAAAAAAAAAAAAAAAAAAAAAAAAAAAAAAAAAAAAAAAAAAAAAAAAAAAAAAAAAAAAAAAAAAAAAAAAAAAAAAAAAAAAAAAAAAAAAAAAAAAAAAAAAAAAAAAAAAAAAAAAAAAAAAAAAAAAAAAAAAAAAAAAAAAAAAAAAAAAAAAAAAAAAAAAAAAAAAAAAAAAAAAAAAAAAAAAAAAAAAAAAAAAAAAAAAAAAAAAAAAAAAAAAAAAAAAAAAAAAAAAAAAAAAAAAAAAAAAAAAAAAAAAAAAAAAAAAAAAAAAAAAAAAAAAAAAAAAAAAAAAAAAAAAAAAAAAAAAAAAAAAAAAAAAAAAAAAAAAAAAAAAAAAAAAAAAAAAAAAAAAAAAAAAAAAAAAAAAAAAAAAAAAAAAAAAAAAAAAAAAAAAAAAAAAAAAAAAAAAAAAAAAAAAAAAAAAAAAAAAAAAAAAAAAAAAAAAAAAAAAAAAAAAAAAAAAAAAAAAAAAAAAAAAAAAAAAAAAAAAAAAAAAAAAAAAAAAAAAAAAAAAAAAAAAAAAAAAAAAAAAAAAAAAAAAAAAAAAAAAAAAAAAAAAAAAAAAAAAAAAAAAAAAAAAAAAAAAAAAAAAAAAAAAAAAAAAAAAAAAAAAAAAAAAAAAAAAAAAAAAAAAAAAAAAAAAAAAAAAAAAAAAAAAAAAAAAAAAAAAAAAAAAAAAAAAAAAAAAAAAAAAAAAAAAAAAAAAAAAAAAAAAAAAAAAAAAAAAAAAAAAAAAAAAAAAAAAAAAAAAAAAAAAAAAAAAAAAAAAAAAAAAAAAAAAAAAAAAAAAAAAAAAAAAAAAAAAAAAAAAAAAAAAAAAAAAAAAAAAAAAAAAAAAAAAAAAAAAAAAAAAAAAAAAAAAAAAAAAAAAAAAAAAAAAAAAAAAAAAAAAAAAAAAAAAAAAAAAAAAAAAAAAAAAAAAAAAAAAAAAAAAAAAAAAAAAAAAAAAAAAAAAAAAAAAAAAAAAAAAAAAAAAAAAAAAAAAAAAAAAAAAAAAAAAAAAAAAAAAAAAAAAAAAAAAAAAAAAAAAAAAAAAAAAAAAAAAAAAAAAAAAAAAAAAAAAAAAAAAAAAAAAAAAAAAAAAAAAAAAAAAAAAAAAAAAAAAAAAAAAAAAAAAAAAAAAAAAAAAAAAAAAAAAAAAAAAAAAAAAAAAAAAAAAAAAAAAAAAAAAAAAAAAAAAAAAAAAAAAAAAAAAAAAAAAAAAAAAAAAAAAAAAAAAAAAAAAAAAAAAAAAAAAAAAAAAAAAAAAAAAAAAAAAAAAAAAAAAAAAAAAAAAAAAAAAAAAAAAAAAAAAAAAAAAAAAAAAAAAAAAAAAAAAAAAAAAAAAAAAAAAAAAAAAAAAAAAAAAAAAAAAAAALJdzXjFND4/aOX0FO5pUD/5XOQI+lZXP8NLJRA4qFw/Gzw/A1QZYT/RxdL+caNzPwt/O12fz38/fLjkuFM6iD+ENaI99PyOP3BUmgvGaZM/Atnr3R/vpT8eigJ9Ik+yPx24IuZmQb4/vRG+QhI0xD/qIRrdQezIP4WGh8Yyssw/mQ0yychZ0D8XjNOmCZDRPxKaUP/DPtI/CdrFf62J0z+7d7UndNXUP3uav4DIA9Y/E4133XoC1z+CcJvIgSvYPzTmN+Lo39g/dz+aKKw12T+FMIsSiszZP6/I24iRBto/RLIJxuAW2j87BPhPgiraPwrmca6A99o/YHZPHhZq2z+a5CiL7pfbP1hvH+WeGNw/SMAzzbKR3D/X5EgchhjdP9ONhD9ZUN0/ws6LfapV3T+vErXKa9rdP1a0z4IFBN4/5LOzUuly3j/XtelGwp/eP6zjQ3yeqd4/7Os3fR7u3j9KWEfMVj/fP064DAzimd8/6xwDste73z+VUw9apRPgP0s9VhxFQOA/vIfC0TZJ4D90HYu4LJ3gP5zdpQCPEuE/LnAPYbFa4T94aeLSBX7hP9WSJCfI3OE/Q2vbT3se4j8zd7bdI1DiP4oN6uSieeI/AyrRZl6k4j/1VcZIjL3iP3VO36nqxuI/yZOkaybf4j9b0gY0mvLiPxAtO1r0A+M/qHalGsoS4z+qTOYsdSbjP846mCEXMuM/7vqOd2Y34z/GcZX7pkbjPwtMewzsUOM/bp2rJBxb4z9lgVcWeGXjP9HAu9MHc+M/CmgibHh64z+YJXitZX3jP/PsER+siOM/ga7I24iR4z+KoF3815rjPzPEsS5uo+M/HPqwdF2t4z9MmPK3XLLjP4llUvhAtOM/2g4ag+S84z+QRpsCTsPjP8odoNwByuM/DZTo7tDP4z+5/If029fjPybOqRkm3OM/g1efNGrd4z80NShPLeTjP7bz/dR46eM//8M+TO7u4z/s75j4DfTjP+aZAQ9X+uM/Shdv7dr94z/EF68PCv/jPy6JlLHNBOQ/XBIpY5sJ5D9GKdZ9iQ7kP6RMS/dmEuQ/7zE5AA4Y5D+ubn5Z+RrkP5PcQqL8G+Q/XTda4ooh5D/7h2sf0yXkP3xhMlUwKuQ/fLAiwnQu5D/kDFvSBjTkPwIDNIh5N+Q/uAa2SrA45D/F07QhHj7kP7DqYTwMQ+Q/JCspWC5H5D+8IUIw0EvkP5dapF0OUeQ/Jy2nMC1U5D+xCzJADFXkP+XuvlaAWeQ/Z/gjziBd5D+xE/Q262DkP4uX5VV+ZOQ/uSB6B0xp5D/655UpUGzkP6/rF+yGbeQ/8EyzbCRz5D/Hi1m4QnfkP+zAOSNKe+Q/k2X/pliA5D9HiNOUkIbkP/Ohgi1XiuQ/dyYV2I+L5D85EochRpHkP0xUbw1sleQ/kPpVYX6a5D/E3eJ38p7kP+rc4ILWpOQ/uazh1xyp5D+1N/jCZKrkP7H2DWvfsOQ/QmOQnJe25D9fw0pvYL3kP9481SE3w+Q/dVJAJdrM5D9niaLJW83kP2meT1uNzeQ/d7o+nz/X5D8Cgjl6/N7kP+gIDNAg5uQ/\",\"dtype\":\"float64\",\"order\":\"little\",\"shape\":[381]}},\"selected\":{\"id\":\"5798\"},\"selection_policy\":{\"id\":\"5797\"}},\"id\":\"5454\",\"type\":\"ColumnDataSource\"},{\"attributes\":{\"line_alpha\":0.1,\"line_color\":\"violet\",\"x\":{\"field\":\"date\"},\"y\":{\"field\":\"third_dose\"}},\"id\":\"5499\",\"type\":\"Line\"},{\"attributes\":{\"data\":{\"date\":{\"__ndarray__\":\"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\",\"dtype\":\"float64\",\"order\":\"little\",\"shape\":[381]},\"first_dose\":{\"__ndarray__\":\"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\",\"dtype\":\"float64\",\"order\":\"little\",\"shape\":[381]},\"second_dose\":{\"__ndarray__\":\"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\",\"dtype\":\"float64\",\"order\":\"little\",\"shape\":[381]},\"third_dose\":{\"__ndarray__\":\"AAAAAAAAAAAAAAAAAAAAAAAAAAAAAAAAAAAAAAAAAAAAAAAAAAAAAAAAAAAAAAAAAAAAAAAAAAAAAAAAAAAAAAAAAAAAAAAAAAAAAAAAAAAAAAAAAAAAAAAAAAAAAAAAAAAAAAAAAAAAAAAAAAAAAAAAAAAAAAAAAAAAAAAAAAAAAAAAAAAAAAAAAAAAAAAAAAAAAAAAAAAAAAAAAAAAAAAAAAAAAAAAAAAAAAAAAAAAAAAAAAAAAAAAAAAAAAAAAAAAAAAAAAAAAAAAAAAAAAAAAAAAAAAAAAAAAAAAAAAAAAAAAAAAAAAAAAAAAAAAAAAAAAAAAAAAAAAAAAAAAAAAAAAAAAAAAAAAAAAAAAAAAAAAAAAAAAAAAAAAAAAAAAAAAAAAAAAAAAAAAAAAAAAAAAAAAAAAAAAAAAAAAAAAAAAAAAAAAAAAAAAAAAAAAAAAAAAAAAAAAAAAAAAAAAAAAAAAAAAAAAAAAAAAAAAAAAAAAAAAAAAAAAAAAAAAAAAAAAAAAAAAAAAAAAAAAAAAAAAAAAAAAAAAAAAAAAAAAAAAAAAAAAAAAAAAAAAAAAAAAAAAAAAAAAAAAAAAAAAAAAAAAAAAAAAAAAAAAAAAAAAAAAAAAAAAAAAAAAAAAAAAAAAAAAAAAAAAAAAAAAAAAAAAAAAAAAAAAAAAAAAAAAAAAAAAAAAAAAAAAAAAAAAAAAAAAAAAAAAAAAAAAAAAAAAAAAAAAAAAAAAAAAAAAAAAAAAAAAAAAAAAAAAAAAAAAAAAAAAAAAAAAAAAAAAAAAAAAAAAAAAAAAAAAAAAAAAAAAAAAAAAAAAAAAAAAAAAAAAAAAAAAAAAAAAAAAAAAAAAAAAAAAAAAAAAAAAAAAAAAAAAAAAAAAAAAAAAAAAAAAAAAAAAAAAAAAAAAAAAAAAAAAAAAAAAAAAAAAAAAAAAAAAAAAAAAAAAAAAAAAAAAAAAAAAAAAAAAAAAAAAAAAAAAAAAAAAAAAAAAAAAAAAAAAAAAAAAAAAAAAAAAAAAAAAAAAAAAAAAAAAAAAAAAAAAAAAAAAAAAAAAAAAAAAAAAAAAAAAAAAAAAAAAAAAAAAAAAAAAAAAAAAAAAAAAAAAAAAAAAAAAAAAAAAAAAAAAAAAAAAAAAAAAAAAAAAAAAAAAAAAAAAAAAAAAAAAAAAAAAAAAAAAAAAAAAAAAAAAAAAAAAAAAAAAAAAAAAAAAAAAAAAAAAAAAAAAAAAAAAAAAAAAAAAAAAAAAAAAAAAAAAAAAAAAAAAAAAAAAAAAAAAAAAAAAAAAAAAAAAAAAAAAAAAAAAAAAAAAAAAAAAAAAAAAAAAAAAAAAAAAAAAAAAAAAAAAAAAAAAAAAAAAAAAAAAAAAAAAAAAAAAAAAAAAAAAAAAAAAAAAAAAAAAAAAAAAAAAAAAAAAAAAAAAAAAAAAAAAAAAAAAAAAAAAAAAAAAAAAAAAAAAAAAAAAAAAAAAAAAAAAAAAAAAAAAAAAAAAAAAAAAAAAAAAAAAAAAAAAAAAAAAAAAAAAAAAAAAAAAAAAAAAAAAAAAAAAAAAAAAAAAAAAAAAAAAAAAAAAAAAAAAAAAAAAAAAAAAAAAAAAAAAAAAAAAAAAAAAAAAAAAAAAAAAAAAAAAAAAAAAAAAAAAAAAAAAAAAAAAAAAAAAAAAAAAAAAAAAAAAAAAAAAAAAAAAAAAAAAAAAAAAAAAAAAAAAAAAAAAAAAAAAAAAAAAAAAAAAAAAAAAAAAAAAAAAAAAAAAAAAAAAAAAAAAAAAAAAAAAAAAAAAAAAAAAAAAAAAAAAAAAAAAAAAAAAAAAAAAAAAAAAAAAAAAAAAAAAAAAAAAAAAAAAAAAAAAAAAAAAAAAAAAAAAAAAAAAAAAAAAAAAAAAAAAAAAAAAAAAAAAAAAAAAAAAAAAAAAAAAAAAAAAAAAAAAAAAAAAAAAAAAAAAAAAAAAAAAAAAAAAAAAAAAAAAAAAAAAAAAAAAAAAAAAAAAAAAAAAAAAAAAAAAAAAAAAAAAAAAAAAAAAAAAAAAAAAAAAAAAAAAAAAAAAAAAAAAAAAAAAAAAAAAAAAAAAAAAAAAAAAAAAAAAAAAAAAAAAAAAAAAAAAAAAAAAAAAAAAAAAAAAAAAAAAAAAAAAAAAAAAAAAAAAAAAAAAAAAAAAAAAAAAAAAAAAAAAAAAAAAAAAAAAAAAAAAAAAAAAAAAAAAAAAAAAAAAAAAAAAAAAAAAAAAAAAAAAAAAAAAAAAAAAAAAAAAAAAAAAAAAAAAAAAAAAAAAAAAAAAAAAAAAAAAAAAAAAAAAAAAAAAAAAAAAAAAAAAAAAAAAAAAAAAAAAAAAAAAAAAAAAAAAAAAAAAAAAAAAAAAAAAAAAAAAAAAAAAAAAAAAAAAAAAAAAAAAAAAAAAAAAAAAAAAAAAAAAAAAAAAAAAAAAAAAAAAAAAAAAAAAAAAAAAAAAAAAAAAAAAAAAAAAAAAAAAAAAAAAAAAAALJdzXjFND4/aOX0FO5pUD/5XOQI+lZXP8NLJRA4qFw/Gzw/A1QZYT/RxdL+caNzPwt/O12fz38/fLjkuFM6iD+ENaI99PyOP3BUmgvGaZM/Atnr3R/vpT8eigJ9Ik+yPx24IuZmQb4/vRG+QhI0xD/qIRrdQezIP4WGh8Yyssw/mQ0yychZ0D8XjNOmCZDRPxKaUP/DPtI/CdrFf62J0z+7d7UndNXUP3uav4DIA9Y/E4133XoC1z+CcJvIgSvYPzTmN+Lo39g/dz+aKKw12T+FMIsSiszZP6/I24iRBto/RLIJxuAW2j87BPhPgiraPwrmca6A99o/YHZPHhZq2z+a5CiL7pfbP1hvH+WeGNw/SMAzzbKR3D/X5EgchhjdP9ONhD9ZUN0/ws6LfapV3T+vErXKa9rdP1a0z4IFBN4/5LOzUuly3j/XtelGwp/eP6zjQ3yeqd4/7Os3fR7u3j9KWEfMVj/fP064DAzimd8/6xwDste73z+VUw9apRPgP0s9VhxFQOA/vIfC0TZJ4D90HYu4LJ3gP5zdpQCPEuE/LnAPYbFa4T94aeLSBX7hP9WSJCfI3OE/Q2vbT3se4j8zd7bdI1DiP4oN6uSieeI/AyrRZl6k4j/1VcZIjL3iP3VO36nqxuI/yZOkaybf4j9b0gY0mvLiPxAtO1r0A+M/qHalGsoS4z+qTOYsdSbjP846mCEXMuM/7vqOd2Y34z/GcZX7pkbjPwtMewzsUOM/bp2rJBxb4z9lgVcWeGXjP9HAu9MHc+M/CmgibHh64z+YJXitZX3jP/PsER+siOM/ga7I24iR4z+KoF3815rjPzPEsS5uo+M/HPqwdF2t4z9MmPK3XLLjP4llUvhAtOM/2g4ag+S84z+QRpsCTsPjP8odoNwByuM/DZTo7tDP4z+5/If029fjPybOqRkm3OM/g1efNGrd4z80NShPLeTjP7bz/dR46eM//8M+TO7u4z/s75j4DfTjP+aZAQ9X+uM/Shdv7dr94z/EF68PCv/jPy6JlLHNBOQ/XBIpY5sJ5D9GKdZ9iQ7kP6RMS/dmEuQ/7zE5AA4Y5D+ubn5Z+RrkP5PcQqL8G+Q/XTda4ooh5D/7h2sf0yXkP3xhMlUwKuQ/fLAiwnQu5D/kDFvSBjTkPwIDNIh5N+Q/uAa2SrA45D/F07QhHj7kP7DqYTwMQ+Q/JCspWC5H5D+8IUIw0EvkP5dapF0OUeQ/Jy2nMC1U5D+xCzJADFXkP+XuvlaAWeQ/Z/gjziBd5D+xE/Q262DkP4uX5VV+ZOQ/uSB6B0xp5D/655UpUGzkP6/rF+yGbeQ/8EyzbCRz5D/Hi1m4QnfkP+zAOSNKe+Q/k2X/pliA5D9HiNOUkIbkP/Ohgi1XiuQ/dyYV2I+L5D85EochRpHkP0xUbw1sleQ/kPpVYX6a5D/E3eJ38p7kP+rc4ILWpOQ/uazh1xyp5D+1N/jCZKrkP7H2DWvfsOQ/QmOQnJe25D9fw0pvYL3kP9481SE3w+Q/dVJAJdrM5D9niaLJW83kP2meT1uNzeQ/d7o+nz/X5D8Cgjl6/N7kP+gIDNAg5uQ/\",\"dtype\":\"float64\",\"order\":\"little\",\"shape\":[381]}},\"selected\":{\"id\":\"5800\"},\"selection_policy\":{\"id\":\"5799\"}},\"id\":\"5455\",\"type\":\"ColumnDataSource\"},{\"attributes\":{},\"id\":\"5797\",\"type\":\"UnionRenderers\"},{\"attributes\":{\"months\":[0,6]},\"id\":\"5812\",\"type\":\"MonthsTicker\"},{\"attributes\":{\"mantissas\":[1,2,5],\"max_interval\":500.0,\"num_minor_ticks\":0},\"id\":\"5802\",\"type\":\"AdaptiveTicker\"},{\"attributes\":{},\"id\":\"5796\",\"type\":\"Selection\"},{\"attributes\":{},\"id\":\"5813\",\"type\":\"YearsTicker\"},{\"attributes\":{\"num_minor_ticks\":5,\"tickers\":[{\"id\":\"5802\"},{\"id\":\"5803\"},{\"id\":\"5804\"},{\"id\":\"5805\"},{\"id\":\"5806\"},{\"id\":\"5807\"},{\"id\":\"5808\"},{\"id\":\"5809\"},{\"id\":\"5810\"},{\"id\":\"5811\"},{\"id\":\"5812\"},{\"id\":\"5813\"}]},\"id\":\"5466\",\"type\":\"DatetimeTicker\"},{\"attributes\":{\"months\":[0,1,2,3,4,5,6,7,8,9,10,11]},\"id\":\"5809\",\"type\":\"MonthsTicker\"},{\"attributes\":{\"coordinates\":null,\"data_source\":{\"id\":\"5453\"},\"glyph\":{\"id\":\"5486\"},\"group\":null,\"hover_glyph\":null,\"muted_glyph\":{\"id\":\"5488\"},\"nonselection_glyph\":{\"id\":\"5487\"},\"view\":{\"id\":\"5490\"}},\"id\":\"5489\",\"type\":\"GlyphRenderer\"},{\"attributes\":{\"line_alpha\":0.1,\"line_color\":\"red\",\"x\":{\"field\":\"date\"},\"y\":{\"field\":\"second_dose\"}},\"id\":\"5493\",\"type\":\"Line\"},{\"attributes\":{\"days\":[1,15]},\"id\":\"5808\",\"type\":\"DaysTicker\"},{\"attributes\":{\"coordinates\":null,\"data_source\":{\"id\":\"5454\"},\"glyph\":{\"id\":\"5492\"},\"group\":null,\"hover_glyph\":null,\"muted_glyph\":{\"id\":\"5494\"},\"nonselection_glyph\":{\"id\":\"5493\"},\"view\":{\"id\":\"5496\"}},\"id\":\"5495\",\"type\":\"GlyphRenderer\"},{\"attributes\":{\"days\":[1,2,3,4,5,6,7,8,9,10,11,12,13,14,15,16,17,18,19,20,21,22,23,24,25,26,27,28,29,30,31]},\"id\":\"5805\",\"type\":\"DaysTicker\"},{\"attributes\":{\"coordinates\":null,\"group\":null},\"id\":\"5787\",\"type\":\"Title\"},{\"attributes\":{\"data\":{\"date\":{\"__ndarray__\":\"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\",\"dtype\":\"float64\",\"order\":\"little\",\"shape\":[381]},\"first_dose\":{\"__ndarray__\":\"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\",\"dtype\":\"float64\",\"order\":\"little\",\"shape\":[381]},\"second_dose\":{\"__ndarray__\":\"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\",\"dtype\":\"float64\",\"order\":\"little\",\"shape\":[381]},\"third_dose\":{\"__ndarray__\":\"AAAAAAAAAAAAAAAAAAAAAAAAAAAAAAAAAAAAAAAAAAAAAAAAAAAAAAAAAAAAAAAAAAAAAAAAAAAAAAAAAAAAAAAAAAAAAAAAAAAAAAAAAAAAAAAAAAAAAAAAAAAAAAAAAAAAAAAAAAAAAAAAAAAAAAAAAAAAAAAAAAAAAAAAAAAAAAAAAAAAAAAAAAAAAAAAAAAAAAAAAAAAAAAAAAAAAAAAAAAAAAAAAAAAAAAAAAAAAAAAAAAAAAAAAAAAAAAAAAAAAAAAAAAAAAAAAAAAAAAAAAAAAAAAAAAAAAAAAAAAAAAAAAAAAAAAAAAAAAAAAAAAAAAAAAAAAAAAAAAAAAAAAAAAAAAAAAAAAAAAAAAAAAAAAAAAAAAAAAAAAAAAAAAAAAAAAAAAAAAAAAAAAAAAAAAAAAAAAAAAAAAAAAAAAAAAAAAAAAAAAAAAAAAAAAAAAAAAAAAAAAAAAAAAAAAAAAAAAAAAAAAAAAAAAAAAAAAAAAAAAAAAAAAAAAAAAAAAAAAAAAAAAAAAAAAAAAAAAAAAAAAAAAAAAAAAAAAAAAAAAAAAAAAAAAAAAAAAAAAAAAAAAAAAAAAAAAAAAAAAAAAAAAAAAAAAAAAAAAAAAAAAAAAAAAAAAAAAAAAAAAAAAAAAAAAAAAAAAAAAAAAAAAAAAAAAAAAAAAAAAAAAAAAAAAAAAAAAAAAAAAAAAAAAAAAAAAAAAAAAAAAAAAAAAAAAAAAAAAAAAAAAAAAAAAAAAAAAAAAAAAAAAAAAAAAAAAAAAAAAAAAAAAAAAAAAAAAAAAAAAAAAAAAAAAAAAAAAAAAAAAAAAAAAAAAAAAAAAAAAAAAAAAAAAAAAAAAAAAAAAAAAAAAAAAAAAAAAAAAAAAAAAAAAAAAAAAAAAAAAAAAAAAAAAAAAAAAAAAAAAAAAAAAAAAAAAAAAAAAAAAAAAAAAAAAAAAAAAAAAAAAAAAAAAAAAAAAAAAAAAAAAAAAAAAAAAAAAAAAAAAAAAAAAAAAAAAAAAAAAAAAAAAAAAAAAAAAAAAAAAAAAAAAAAAAAAAAAAAAAAAAAAAAAAAAAAAAAAAAAAAAAAAAAAAAAAAAAAAAAAAAAAAAAAAAAAAAAAAAAAAAAAAAAAAAAAAAAAAAAAAAAAAAAAAAAAAAAAAAAAAAAAAAAAAAAAAAAAAAAAAAAAAAAAAAAAAAAAAAAAAAAAAAAAAAAAAAAAAAAAAAAAAAAAAAAAAAAAAAAAAAAAAAAAAAAAAAAAAAAAAAAAAAAAAAAAAAAAAAAAAAAAAAAAAAAAAAAAAAAAAAAAAAAAAAAAAAAAAAAAAAAAAAAAAAAAAAAAAAAAAAAAAAAAAAAAAAAAAAAAAAAAAAAAAAAAAAAAAAAAAAAAAAAAAAAAAAAAAAAAAAAAAAAAAAAAAAAAAAAAAAAAAAAAAAAAAAAAAAAAAAAAAAAAAAAAAAAAAAAAAAAAAAAAAAAAAAAAAAAAAAAAAAAAAAAAAAAAAAAAAAAAAAAAAAAAAAAAAAAAAAAAAAAAAAAAAAAAAAAAAAAAAAAAAAAAAAAAAAAAAAAAAAAAAAAAAAAAAAAAAAAAAAAAAAAAAAAAAAAAAAAAAAAAAAAAAAAAAAAAAAAAAAAAAAAAAAAAAAAAAAAAAAAAAAAAAAAAAAAAAAAAAAAAAAAAAAAAAAAAAAAAAAAAAAAAAAAAAAAAAAAAAAAAAAAAAAAAAAAAAAAAAAAAAAAAAAAAAAAAAAAAAAAAAAAAAAAAAAAAAAAAAAAAAAAAAAAAAAAAAAAAAAAAAAAAAAAAAAAAAAAAAAAAAAAAAAAAAAAAAAAAAAAAAAAAAAAAAAAAAAAAAAAAAAAAAAAAAAAAAAAAAAAAAAAAAAAAAAAAAAAAAAAAAAAAAAAAAAAAAAAAAAAAAAAAAAAAAAAAAAAAAAAAAAAAAAAAAAAAAAAAAAAAAAAAAAAAAAAAAAAAAAAAAAAAAAAAAAAAAAAAAAAAAAAAAAAAAAAAAAAAAAAAAAAAAAAAAAAAAAAAAAAAAAAAAAAAAAAAAAAAAAAAAAAAAAAAAAAAAAAAAAAAAAAAAAAAAAAAAAAAAAAAAAAAAAAAAAAAAAAAAAAAAAAAAAAAAAAAAAAAAAAAAAAAAAAAAAAAAAAAAAAAAAAAAAAAAAAAAAAAAAAAAAAAAAAAAAAAAAAAAAAAAAAAAAAAAAAAAAAAAAAAAAAAAAAAAAAAAAAAAAAAAAAAAAAAAAAAAAAAAAAAAAAAAAAAAAAAAAAAAAAAAAAAAAAAAAAAAAAAAAAAAAAAAAAAAAAAAAAAAAAAAAAAAAAAAAAAAAAAAAAAAAAAAAAAAAAAAAAAAAAAAAAAAAAAAAAAAAAAAAAAAAAAAAAAAAAAAAAAAAAAAAAAAAAAAAAAAAAAAAAAAAAAAAAAAAAAAAAAAAAAAAAAAAAAAAAAAAAAAAAAAAAAAAAAAAAAAAAAAAAAAAAAAAAAAAAAAAAALJdzXjFND4/aOX0FO5pUD/5XOQI+lZXP8NLJRA4qFw/Gzw/A1QZYT/RxdL+caNzPwt/O12fz38/fLjkuFM6iD+ENaI99PyOP3BUmgvGaZM/Atnr3R/vpT8eigJ9Ik+yPx24IuZmQb4/vRG+QhI0xD/qIRrdQezIP4WGh8Yyssw/mQ0yychZ0D8XjNOmCZDRPxKaUP/DPtI/CdrFf62J0z+7d7UndNXUP3uav4DIA9Y/E4133XoC1z+CcJvIgSvYPzTmN+Lo39g/dz+aKKw12T+FMIsSiszZP6/I24iRBto/RLIJxuAW2j87BPhPgiraPwrmca6A99o/YHZPHhZq2z+a5CiL7pfbP1hvH+WeGNw/SMAzzbKR3D/X5EgchhjdP9ONhD9ZUN0/ws6LfapV3T+vErXKa9rdP1a0z4IFBN4/5LOzUuly3j/XtelGwp/eP6zjQ3yeqd4/7Os3fR7u3j9KWEfMVj/fP064DAzimd8/6xwDste73z+VUw9apRPgP0s9VhxFQOA/vIfC0TZJ4D90HYu4LJ3gP5zdpQCPEuE/LnAPYbFa4T94aeLSBX7hP9WSJCfI3OE/Q2vbT3se4j8zd7bdI1DiP4oN6uSieeI/AyrRZl6k4j/1VcZIjL3iP3VO36nqxuI/yZOkaybf4j9b0gY0mvLiPxAtO1r0A+M/qHalGsoS4z+qTOYsdSbjP846mCEXMuM/7vqOd2Y34z/GcZX7pkbjPwtMewzsUOM/bp2rJBxb4z9lgVcWeGXjP9HAu9MHc+M/CmgibHh64z+YJXitZX3jP/PsER+siOM/ga7I24iR4z+KoF3815rjPzPEsS5uo+M/HPqwdF2t4z9MmPK3XLLjP4llUvhAtOM/2g4ag+S84z+QRpsCTsPjP8odoNwByuM/DZTo7tDP4z+5/If029fjPybOqRkm3OM/g1efNGrd4z80NShPLeTjP7bz/dR46eM//8M+TO7u4z/s75j4DfTjP+aZAQ9X+uM/Shdv7dr94z/EF68PCv/jPy6JlLHNBOQ/XBIpY5sJ5D9GKdZ9iQ7kP6RMS/dmEuQ/7zE5AA4Y5D+ubn5Z+RrkP5PcQqL8G+Q/XTda4ooh5D/7h2sf0yXkP3xhMlUwKuQ/fLAiwnQu5D/kDFvSBjTkPwIDNIh5N+Q/uAa2SrA45D/F07QhHj7kP7DqYTwMQ+Q/JCspWC5H5D+8IUIw0EvkP5dapF0OUeQ/Jy2nMC1U5D+xCzJADFXkP+XuvlaAWeQ/Z/gjziBd5D+xE/Q262DkP4uX5VV+ZOQ/uSB6B0xp5D/655UpUGzkP6/rF+yGbeQ/8EyzbCRz5D/Hi1m4QnfkP+zAOSNKe+Q/k2X/pliA5D9HiNOUkIbkP/Ohgi1XiuQ/dyYV2I+L5D85EochRpHkP0xUbw1sleQ/kPpVYX6a5D/E3eJ38p7kP+rc4ILWpOQ/uazh1xyp5D+1N/jCZKrkP7H2DWvfsOQ/QmOQnJe25D9fw0pvYL3kP9481SE3w+Q/dVJAJdrM5D9niaLJW83kP2meT1uNzeQ/d7o+nz/X5D8Cgjl6/N7kP+gIDNAg5uQ/\",\"dtype\":\"float64\",\"order\":\"little\",\"shape\":[381]}},\"selected\":{\"id\":\"5796\"},\"selection_policy\":{\"id\":\"5795\"}},\"id\":\"5453\",\"type\":\"ColumnDataSource\"},{\"attributes\":{\"bottom_units\":\"screen\",\"coordinates\":null,\"fill_alpha\":0.5,\"fill_color\":\"lightgrey\",\"group\":null,\"left_units\":\"screen\",\"level\":\"overlay\",\"line_alpha\":1.0,\"line_color\":\"black\",\"line_dash\":[4,4],\"line_width\":2,\"right_units\":\"screen\",\"syncable\":false,\"top_units\":\"screen\"},\"id\":\"5478\",\"type\":\"BoxAnnotation\"},{\"attributes\":{},\"id\":\"5470\",\"type\":\"BasicTicker\"},{\"attributes\":{\"source\":{\"id\":\"5455\"}},\"id\":\"5502\",\"type\":\"CDSView\"},{\"attributes\":{\"months\":[0,4,8]},\"id\":\"5811\",\"type\":\"MonthsTicker\"},{\"attributes\":{\"days\":[1,8,15,22]},\"id\":\"5807\",\"type\":\"DaysTicker\"},{\"attributes\":{\"line_alpha\":0.2,\"line_color\":\"blue\",\"x\":{\"field\":\"date\"},\"y\":{\"field\":\"first_dose\"}},\"id\":\"5488\",\"type\":\"Line\"}],\"root_ids\":[\"5456\"]},\"title\":\"Bokeh Application\",\"version\":\"2.4.2\"}};\n",
       "  const render_items = [{\"docid\":\"d013213a-bc16-4825-a3d5-e19df6952906\",\"root_ids\":[\"5456\"],\"roots\":{\"5456\":\"f2c88c23-3b6b-458f-893b-6db6444e2315\"}}];\n",
       "  root.Bokeh.embed.embed_items_notebook(docs_json, render_items);\n",
       "\n",
       "  }\n",
       "  if (root.Bokeh !== undefined) {\n",
       "    embed_document(root);\n",
       "  } else {\n",
       "    let attempts = 0;\n",
       "    const timer = setInterval(function(root) {\n",
       "      if (root.Bokeh !== undefined) {\n",
       "        clearInterval(timer);\n",
       "        embed_document(root);\n",
       "      } else {\n",
       "        attempts++;\n",
       "        if (attempts > 100) {\n",
       "          clearInterval(timer);\n",
       "          console.log(\"Bokeh: ERROR: Unable to run BokehJS code because BokehJS library is missing\");\n",
       "        }\n",
       "      }\n",
       "    }, 10, root)\n",
       "  }\n",
       "})(window);"
      ],
      "application/vnd.bokehjs_exec.v0+json": ""
     },
     "metadata": {
      "application/vnd.bokehjs_exec.v0+json": {
       "id": "5456"
      }
     },
     "output_type": "display_data"
    },
    {
     "data": {
      "text/plain": [
       "Figure(id='5456', ...)"
      ]
     },
     "execution_count": 134,
     "metadata": {},
     "output_type": "execute_result"
    }
   ],
   "source": [
    "(\n",
    "charts.Line('date', 'first_dose', vag_cummulative, color='blue').datetime().opts(width=1000)\n",
    "    +\n",
    "charts.Line('date', 'second_dose', vag_cummulative, color='red').datetime().opts(width=1000)\n",
    "    +\n",
    "charts.Line('date', 'third_dose', vag_cummulative, color='violet').datetime().opts(width=1000)\n",
    ")"
   ]
  },
  {
   "cell_type": "code",
   "execution_count": null,
   "id": "ae67f472-c9e2-409f-bf2a-0df55a3deb6d",
   "metadata": {},
   "outputs": [],
   "source": []
  },
  {
   "cell_type": "code",
   "execution_count": null,
   "id": "778df1ab-a177-4227-99f3-2feec7f63939",
   "metadata": {},
   "outputs": [],
   "source": [
    "vag_grouped.to_csv('vax_per_day_40_49.csv')"
   ]
  },
  {
   "cell_type": "code",
   "execution_count": 15,
   "id": "7e352608-0ed6-4b2d-9722-f7793adfb386",
   "metadata": {},
   "outputs": [],
   "source": [
    "%matplotlib inline"
   ]
  },
  {
   "cell_type": "code",
   "execution_count": 16,
   "id": "6174c6d8-553b-4958-a06c-acb135cb1c5c",
   "metadata": {},
   "outputs": [
    {
     "data": {
      "text/plain": [
       "<AxesSubplot:xlabel='date'>"
      ]
     },
     "execution_count": 16,
     "metadata": {},
     "output_type": "execute_result"
    },
    {
     "data": {
      "image/png": "[encoded data removed]",
      "text/plain": [
       "<Figure size 432x288 with 1 Axes>"
      ]
     },
     "metadata": {
      "needs_background": "light"
     },
     "output_type": "display_data"
    }
   ],
   "source": [
    "fr.plot(kind='line', x='date', y='first_dose')"
   ]
  },
  {
   "cell_type": "code",
   "execution_count": 17,
   "id": "845c4e96-e2a8-4adb-84f5-7a50b72bfd05",
   "metadata": {},
   "outputs": [
    {
     "data": {
      "text/plain": [
       "(374, 4)"
      ]
     },
     "execution_count": 17,
     "metadata": {},
     "output_type": "execute_result"
    }
   ],
   "source": [
    "fr.shape"
   ]
  },
  {
   "cell_type": "code",
   "execution_count": 18,
   "id": "cc946f15-999d-453e-856c-804aae8d0394",
   "metadata": {},
   "outputs": [
    {
     "data": {
      "text/plain": [
       "<AxesSubplot:xlabel='date'>"
      ]
     },
     "execution_count": 18,
     "metadata": {},
     "output_type": "execute_result"
    },
    {
     "data": {
      "image/png": "[encoded data removed]",
      "text/plain": [
       "<Figure size 432x288 with 1 Axes>"
      ]
     },
     "metadata": {
      "needs_background": "light"
     },
     "output_type": "display_data"
    }
   ],
   "source": [
    "fr.plot(kind='line', x='date', y='third_dose')"
   ]
  },
  {
   "cell_type": "code",
   "execution_count": 19,
   "id": "683dc887-34be-4179-8854-1516d8db4afd",
   "metadata": {},
   "outputs": [
    {
     "data": {
      "text/plain": [
       "first_dose     12839795\n",
       "second_dose    11662185\n",
       "third_dose      8217390\n",
       "dtype: int64"
      ]
     },
     "execution_count": 19,
     "metadata": {},
     "output_type": "execute_result"
    }
   ],
   "source": [
    "fr.loc[:, ['first_dose', 'second_dose', 'third_dose']].max()"
   ]
  },
  {
   "cell_type": "markdown",
   "id": "eff38390-9e43-434c-98c7-39ab4fb6146b",
   "metadata": {},
   "source": [
    "### Dashboard"
   ]
  },
  {
   "cell_type": "code",
   "execution_count": null,
   "id": "c7c99ff3-e327-4db9-bcc6-0fabfbafc871",
   "metadata": {},
   "outputs": [],
   "source": []
  },
  {
   "cell_type": "code",
   "execution_count": 177,
   "id": "934a177e-4d9f-4159-bec4-31205461bf63",
   "metadata": {},
   "outputs": [
    {
     "name": "stdout",
     "output_type": "stream",
     "text": [
      "\n",
      "select batch_date, \n",
      "Day_Date as date, \n",
      "vaccinated as first_dose,\n",
      "vaccinated_seconde_dose as second_dose,\n",
      "vaccinated_third_dose as third_dose,\n",
      "from\n",
      "coviddatail.staging.vaccinated\n",
      "where batch_date=(select max(batch_date) from coviddatail.staging.vaccinated)\n",
      "order by Day_Date\n",
      "\n"
     ]
    }
   ],
   "source": [
    "print(f'''\n",
    "select batch_date, \n",
    "Day_Date as date, \n",
    "{catalog.coviddatail.staging.vaccinated.vaccinated} as first_dose,\n",
    "{catalog.coviddatail.staging.vaccinated.vaccinated_seconde_dose} as second_dose,\n",
    "{catalog.coviddatail.staging.vaccinated.vaccinated_third_dose} as third_dose,\n",
    "from\n",
    "coviddatail.staging.vaccinated\n",
    "where batch_date=(select max(batch_date) from {catalog.coviddatail.staging.vaccinated})\n",
    "order by Day_Date\n",
    "''')"
   ]
  },
  {
   "cell_type": "code",
   "execution_count": 186,
   "id": "86c23b0d-a2b2-4511-99bc-ca5bd2bf681c",
   "metadata": {},
   "outputs": [],
   "source": [
    "dash_fr = client.query(f'''\n",
    "select batch_date, \n",
    "Day_Date as date, \n",
    "vaccinated as first_dose2,\n",
    "vaccinated_seconde_dose as second_dose,\n",
    "vaccinated_third_dose as third_dose,\n",
    "from\n",
    "staging.vaccinated\n",
    "where batch_date=(select max(batch_date) from {catalog.coviddatail.staging.vaccinated})\n",
    "order by Day_Date\n",
    "''')"
   ]
  },
  {
   "cell_type": "code",
   "execution_count": 187,
   "id": "ca94ef09-4155-403d-ac1f-a02c00e92d06",
   "metadata": {},
   "outputs": [
    {
     "data": {
      "text/html": [
       "<div>\n",
       "<style scoped>\n",
       "    .dataframe tbody tr th:only-of-type {\n",
       "        vertical-align: middle;\n",
       "    }\n",
       "\n",
       "    .dataframe tbody tr th {\n",
       "        vertical-align: top;\n",
       "    }\n",
       "\n",
       "    .dataframe thead th {\n",
       "        text-align: right;\n",
       "    }\n",
       "</style>\n",
       "<table border=\"1\" class=\"dataframe\">\n",
       "  <thead>\n",
       "    <tr style=\"text-align: right;\">\n",
       "      <th></th>\n",
       "      <th>batch_date</th>\n",
       "      <th>date</th>\n",
       "      <th>first_dose2</th>\n",
       "      <th>second_dose</th>\n",
       "      <th>third_dose</th>\n",
       "    </tr>\n",
       "  </thead>\n",
       "  <tbody>\n",
       "    <tr>\n",
       "      <th>0</th>\n",
       "      <td>2021-12-31</td>\n",
       "      <td>2021-07-24T00:00:00.000Z</td>\n",
       "      <td>{'Day_Date': '2021-07-24T00:00:00.000Z', 'vacc...</td>\n",
       "      <td>1417</td>\n",
       "      <td>6</td>\n",
       "    </tr>\n",
       "    <tr>\n",
       "      <th>1</th>\n",
       "      <td>2021-12-31</td>\n",
       "      <td>2021-07-25T00:00:00.000Z</td>\n",
       "      <td>{'Day_Date': '2021-07-25T00:00:00.000Z', 'vacc...</td>\n",
       "      <td>15435</td>\n",
       "      <td>222</td>\n",
       "    </tr>\n",
       "    <tr>\n",
       "      <th>2</th>\n",
       "      <td>2021-12-31</td>\n",
       "      <td>2021-07-26T00:00:00.000Z</td>\n",
       "      <td>{'Day_Date': '2021-07-26T00:00:00.000Z', 'vacc...</td>\n",
       "      <td>13405</td>\n",
       "      <td>320</td>\n",
       "    </tr>\n",
       "    <tr>\n",
       "      <th>3</th>\n",
       "      <td>2021-12-31</td>\n",
       "      <td>2021-07-27T00:00:00.000Z</td>\n",
       "      <td>{'Day_Date': '2021-07-27T00:00:00.000Z', 'vacc...</td>\n",
       "      <td>13444</td>\n",
       "      <td>410</td>\n",
       "    </tr>\n",
       "    <tr>\n",
       "      <th>4</th>\n",
       "      <td>2021-12-31</td>\n",
       "      <td>2021-07-28T00:00:00.000Z</td>\n",
       "      <td>{'Day_Date': '2021-07-28T00:00:00.000Z', 'vacc...</td>\n",
       "      <td>12228</td>\n",
       "      <td>459</td>\n",
       "    </tr>\n",
       "    <tr>\n",
       "      <th>...</th>\n",
       "      <td>...</td>\n",
       "      <td>...</td>\n",
       "      <td>...</td>\n",
       "      <td>...</td>\n",
       "      <td>...</td>\n",
       "    </tr>\n",
       "    <tr>\n",
       "      <th>155</th>\n",
       "      <td>2021-12-31</td>\n",
       "      <td>2021-12-26T00:00:00.000Z</td>\n",
       "      <td>{'Day_Date': '2021-12-26T00:00:00.000Z', 'vacc...</td>\n",
       "      <td>8892</td>\n",
       "      <td>8116</td>\n",
       "    </tr>\n",
       "    <tr>\n",
       "      <th>156</th>\n",
       "      <td>2021-12-31</td>\n",
       "      <td>2021-12-27T00:00:00.000Z</td>\n",
       "      <td>{'Day_Date': '2021-12-27T00:00:00.000Z', 'vacc...</td>\n",
       "      <td>7102</td>\n",
       "      <td>8035</td>\n",
       "    </tr>\n",
       "    <tr>\n",
       "      <th>157</th>\n",
       "      <td>2021-12-31</td>\n",
       "      <td>2021-12-28T00:00:00.000Z</td>\n",
       "      <td>{'Day_Date': '2021-12-28T00:00:00.000Z', 'vacc...</td>\n",
       "      <td>7413</td>\n",
       "      <td>9466</td>\n",
       "    </tr>\n",
       "    <tr>\n",
       "      <th>158</th>\n",
       "      <td>2021-12-31</td>\n",
       "      <td>2021-12-29T00:00:00.000Z</td>\n",
       "      <td>{'Day_Date': '2021-12-29T00:00:00.000Z', 'vacc...</td>\n",
       "      <td>5923</td>\n",
       "      <td>8157</td>\n",
       "    </tr>\n",
       "    <tr>\n",
       "      <th>159</th>\n",
       "      <td>2021-12-31</td>\n",
       "      <td>2021-12-30T00:00:00.000Z</td>\n",
       "      <td>{'Day_Date': '2021-12-30T00:00:00.000Z', 'vacc...</td>\n",
       "      <td>7070</td>\n",
       "      <td>11188</td>\n",
       "    </tr>\n",
       "  </tbody>\n",
       "</table>\n",
       "<p>160 rows × 5 columns</p>\n",
       "</div>"
      ],
      "text/plain": [
       "     batch_date                      date  \\\n",
       "0    2021-12-31  2021-07-24T00:00:00.000Z   \n",
       "1    2021-12-31  2021-07-25T00:00:00.000Z   \n",
       "2    2021-12-31  2021-07-26T00:00:00.000Z   \n",
       "3    2021-12-31  2021-07-27T00:00:00.000Z   \n",
       "4    2021-12-31  2021-07-28T00:00:00.000Z   \n",
       "..          ...                       ...   \n",
       "155  2021-12-31  2021-12-26T00:00:00.000Z   \n",
       "156  2021-12-31  2021-12-27T00:00:00.000Z   \n",
       "157  2021-12-31  2021-12-28T00:00:00.000Z   \n",
       "158  2021-12-31  2021-12-29T00:00:00.000Z   \n",
       "159  2021-12-31  2021-12-30T00:00:00.000Z   \n",
       "\n",
       "                                           first_dose2 second_dose third_dose  \n",
       "0    {'Day_Date': '2021-07-24T00:00:00.000Z', 'vacc...        1417          6  \n",
       "1    {'Day_Date': '2021-07-25T00:00:00.000Z', 'vacc...       15435        222  \n",
       "2    {'Day_Date': '2021-07-26T00:00:00.000Z', 'vacc...       13405        320  \n",
       "3    {'Day_Date': '2021-07-27T00:00:00.000Z', 'vacc...       13444        410  \n",
       "4    {'Day_Date': '2021-07-28T00:00:00.000Z', 'vacc...       12228        459  \n",
       "..                                                 ...         ...        ...  \n",
       "155  {'Day_Date': '2021-12-26T00:00:00.000Z', 'vacc...        8892       8116  \n",
       "156  {'Day_Date': '2021-12-27T00:00:00.000Z', 'vacc...        7102       8035  \n",
       "157  {'Day_Date': '2021-12-28T00:00:00.000Z', 'vacc...        7413       9466  \n",
       "158  {'Day_Date': '2021-12-29T00:00:00.000Z', 'vacc...        5923       8157  \n",
       "159  {'Day_Date': '2021-12-30T00:00:00.000Z', 'vacc...        7070      11188  \n",
       "\n",
       "[160 rows x 5 columns]"
      ]
     },
     "execution_count": 187,
     "metadata": {},
     "output_type": "execute_result"
    }
   ],
   "source": [
    "dash_fr.to_dataframe()"
   ]
  },
  {
   "cell_type": "code",
   "execution_count": 135,
   "id": "ca0e4311-ebbc-492b-a1b0-5eaec3af87e2",
   "metadata": {},
   "outputs": [
    {
     "data": {
      "text/html": [
       "<div>\n",
       "<style scoped>\n",
       "    .dataframe tbody tr th:only-of-type {\n",
       "        vertical-align: middle;\n",
       "    }\n",
       "\n",
       "    .dataframe tbody tr th {\n",
       "        vertical-align: top;\n",
       "    }\n",
       "\n",
       "    .dataframe thead th {\n",
       "        text-align: right;\n",
       "    }\n",
       "</style>\n",
       "<table border=\"1\" class=\"dataframe\">\n",
       "  <thead>\n",
       "    <tr style=\"text-align: right;\">\n",
       "      <th></th>\n",
       "      <th>first_dose</th>\n",
       "      <th>second_dose</th>\n",
       "      <th>third_dose</th>\n",
       "    </tr>\n",
       "  </thead>\n",
       "  <tbody>\n",
       "    <tr>\n",
       "      <th>0</th>\n",
       "      <td>{'Day_Date': '2021-07-24T00:00:00.000Z', 'vacc...</td>\n",
       "      <td>1417</td>\n",
       "      <td>6</td>\n",
       "    </tr>\n",
       "    <tr>\n",
       "      <th>1</th>\n",
       "      <td>{'Day_Date': '2021-07-25T00:00:00.000Z', 'vacc...</td>\n",
       "      <td>15435</td>\n",
       "      <td>222</td>\n",
       "    </tr>\n",
       "    <tr>\n",
       "      <th>2</th>\n",
       "      <td>{'Day_Date': '2021-07-26T00:00:00.000Z', 'vacc...</td>\n",
       "      <td>13405</td>\n",
       "      <td>320</td>\n",
       "    </tr>\n",
       "    <tr>\n",
       "      <th>3</th>\n",
       "      <td>{'Day_Date': '2021-07-27T00:00:00.000Z', 'vacc...</td>\n",
       "      <td>13444</td>\n",
       "      <td>410</td>\n",
       "    </tr>\n",
       "    <tr>\n",
       "      <th>4</th>\n",
       "      <td>{'Day_Date': '2021-07-28T00:00:00.000Z', 'vacc...</td>\n",
       "      <td>12228</td>\n",
       "      <td>459</td>\n",
       "    </tr>\n",
       "    <tr>\n",
       "      <th>...</th>\n",
       "      <td>...</td>\n",
       "      <td>...</td>\n",
       "      <td>...</td>\n",
       "    </tr>\n",
       "    <tr>\n",
       "      <th>155</th>\n",
       "      <td>{'Day_Date': '2021-12-26T00:00:00.000Z', 'vacc...</td>\n",
       "      <td>8892</td>\n",
       "      <td>8116</td>\n",
       "    </tr>\n",
       "    <tr>\n",
       "      <th>156</th>\n",
       "      <td>{'Day_Date': '2021-12-27T00:00:00.000Z', 'vacc...</td>\n",
       "      <td>7102</td>\n",
       "      <td>8035</td>\n",
       "    </tr>\n",
       "    <tr>\n",
       "      <th>157</th>\n",
       "      <td>{'Day_Date': '2021-12-28T00:00:00.000Z', 'vacc...</td>\n",
       "      <td>7413</td>\n",
       "      <td>9466</td>\n",
       "    </tr>\n",
       "    <tr>\n",
       "      <th>158</th>\n",
       "      <td>{'Day_Date': '2021-12-29T00:00:00.000Z', 'vacc...</td>\n",
       "      <td>5923</td>\n",
       "      <td>8157</td>\n",
       "    </tr>\n",
       "    <tr>\n",
       "      <th>159</th>\n",
       "      <td>{'Day_Date': '2021-12-30T00:00:00.000Z', 'vacc...</td>\n",
       "      <td>7070</td>\n",
       "      <td>11188</td>\n",
       "    </tr>\n",
       "  </tbody>\n",
       "</table>\n",
       "<p>160 rows × 3 columns</p>\n",
       "</div>"
      ],
      "text/plain": [
       "                                            first_dose second_dose third_dose\n",
       "0    {'Day_Date': '2021-07-24T00:00:00.000Z', 'vacc...        1417          6\n",
       "1    {'Day_Date': '2021-07-25T00:00:00.000Z', 'vacc...       15435        222\n",
       "2    {'Day_Date': '2021-07-26T00:00:00.000Z', 'vacc...       13405        320\n",
       "3    {'Day_Date': '2021-07-27T00:00:00.000Z', 'vacc...       13444        410\n",
       "4    {'Day_Date': '2021-07-28T00:00:00.000Z', 'vacc...       12228        459\n",
       "..                                                 ...         ...        ...\n",
       "155  {'Day_Date': '2021-12-26T00:00:00.000Z', 'vacc...        8892       8116\n",
       "156  {'Day_Date': '2021-12-27T00:00:00.000Z', 'vacc...        7102       8035\n",
       "157  {'Day_Date': '2021-12-28T00:00:00.000Z', 'vacc...        7413       9466\n",
       "158  {'Day_Date': '2021-12-29T00:00:00.000Z', 'vacc...        5923       8157\n",
       "159  {'Day_Date': '2021-12-30T00:00:00.000Z', 'vacc...        7070      11188\n",
       "\n",
       "[160 rows x 3 columns]"
      ]
     },
     "execution_count": 135,
     "metadata": {},
     "output_type": "execute_result"
    }
   ],
   "source": [
    "dash_fr.date = pd.to_datetime(dash_fr.date)\n",
    "dash_fr.loc[:, ['first_dose', 'second_dose', 'third_dose']]"
   ]
  },
  {
   "cell_type": "code",
   "execution_count": 21,
   "id": "588f5f38-38b1-416a-a94f-6ab04a3874ce",
   "metadata": {},
   "outputs": [
    {
     "data": {
      "text/plain": [
       "first_dose     65580816558081\n",
       "second_dose    59166765916676\n",
       "third_dose       964864964864\n",
       "dtype: object"
      ]
     },
     "execution_count": 21,
     "metadata": {},
     "output_type": "execute_result"
    }
   ],
   "source": [
    "fr2.loc[:, ['first_dose', 'second_dose', 'third_dose']].max()*2"
   ]
  },
  {
   "cell_type": "code",
   "execution_count": 22,
   "id": "33c78010-6ae1-417f-928d-c1c6ed1d1b58",
   "metadata": {},
   "outputs": [],
   "source": [
    "fr2.date = pd.to_datetime(fr2.date)"
   ]
  },
  {
   "cell_type": "code",
   "execution_count": 23,
   "id": "92d6a6db-7757-4023-94da-cda28e80c792",
   "metadata": {},
   "outputs": [],
   "source": [
    "fr2.iloc[:, 1:] = fr2.iloc[:, 1:].astype(int)"
   ]
  },
  {
   "cell_type": "code",
   "execution_count": 24,
   "id": "20af314c-df20-4761-8817-a95c7134a826",
   "metadata": {},
   "outputs": [
    {
     "data": {
      "text/plain": [
       "<AxesSubplot:xlabel='date'>"
      ]
     },
     "execution_count": 24,
     "metadata": {},
     "output_type": "execute_result"
    },
    {
     "data": {
      "image/png": "[encoded data removed]",
      "text/plain": [
       "<Figure size 432x288 with 1 Axes>"
      ]
     },
     "metadata": {
      "needs_background": "light"
     },
     "output_type": "display_data"
    }
   ],
   "source": [
    "fr2.plot(kind='line', x='date', y='third_dose')"
   ]
  },
  {
   "cell_type": "code",
   "execution_count": 29,
   "id": "364df345-bd8a-4992-b311-a97980202364",
   "metadata": {},
   "outputs": [],
   "source": [
    "fr.date = pd.to_datetime(fr.date)"
   ]
  },
  {
   "cell_type": "code",
   "execution_count": 31,
   "id": "1af131da-223b-43d0-89f0-14c818d9a04c",
   "metadata": {},
   "outputs": [],
   "source": [
    "fr2.date = fr2.date.dt.date"
   ]
  },
  {
   "cell_type": "code",
   "execution_count": 43,
   "id": "37da4c0b-48f4-494b-ad31-b76a05593cda",
   "metadata": {},
   "outputs": [],
   "source": [
    "joint = fr2.set_index('date').join(fr.set_index('date'), lsuffix='_l', rsuffix='_r')"
   ]
  },
  {
   "cell_type": "code",
   "execution_count": 37,
   "id": "bfc88bc1-ffa5-442a-a99e-b74cc7ccb5e8",
   "metadata": {},
   "outputs": [
    {
     "data": {
      "text/html": [
       "<div>\n",
       "<style scoped>\n",
       "    .dataframe tbody tr th:only-of-type {\n",
       "        vertical-align: middle;\n",
       "    }\n",
       "\n",
       "    .dataframe tbody tr th {\n",
       "        vertical-align: top;\n",
       "    }\n",
       "\n",
       "    .dataframe thead th {\n",
       "        text-align: right;\n",
       "    }\n",
       "</style>\n",
       "<table border=\"1\" class=\"dataframe\">\n",
       "  <thead>\n",
       "    <tr style=\"text-align: right;\">\n",
       "      <th></th>\n",
       "      <th>first_dose</th>\n",
       "      <th>second_dose</th>\n",
       "      <th>third_dose</th>\n",
       "    </tr>\n",
       "    <tr>\n",
       "      <th>date</th>\n",
       "      <th></th>\n",
       "      <th></th>\n",
       "      <th></th>\n",
       "    </tr>\n",
       "  </thead>\n",
       "  <tbody>\n",
       "    <tr>\n",
       "      <th>2020-12-20</th>\n",
       "      <td>14752</td>\n",
       "      <td>0</td>\n",
       "      <td>0</td>\n",
       "    </tr>\n",
       "    <tr>\n",
       "      <th>2020-12-21</th>\n",
       "      <td>64565</td>\n",
       "      <td>0</td>\n",
       "      <td>0</td>\n",
       "    </tr>\n",
       "    <tr>\n",
       "      <th>2020-12-22</th>\n",
       "      <td>153819</td>\n",
       "      <td>0</td>\n",
       "      <td>0</td>\n",
       "    </tr>\n",
       "    <tr>\n",
       "      <th>2020-12-23</th>\n",
       "      <td>279561</td>\n",
       "      <td>0</td>\n",
       "      <td>0</td>\n",
       "    </tr>\n",
       "    <tr>\n",
       "      <th>2020-12-24</th>\n",
       "      <td>426333</td>\n",
       "      <td>0</td>\n",
       "      <td>0</td>\n",
       "    </tr>\n",
       "    <tr>\n",
       "      <th>...</th>\n",
       "      <td>...</td>\n",
       "      <td>...</td>\n",
       "      <td>...</td>\n",
       "    </tr>\n",
       "    <tr>\n",
       "      <th>2021-12-24</th>\n",
       "      <td>12804154</td>\n",
       "      <td>11636292</td>\n",
       "      <td>8189859</td>\n",
       "    </tr>\n",
       "    <tr>\n",
       "      <th>2021-12-25</th>\n",
       "      <td>12807460</td>\n",
       "      <td>11638822</td>\n",
       "      <td>8191841</td>\n",
       "    </tr>\n",
       "    <tr>\n",
       "      <th>2021-12-26</th>\n",
       "      <td>12818106</td>\n",
       "      <td>11647701</td>\n",
       "      <td>8199948</td>\n",
       "    </tr>\n",
       "    <tr>\n",
       "      <th>2021-12-27</th>\n",
       "      <td>12828446</td>\n",
       "      <td>11654790</td>\n",
       "      <td>8207973</td>\n",
       "    </tr>\n",
       "    <tr>\n",
       "      <th>2021-12-28</th>\n",
       "      <td>12839795</td>\n",
       "      <td>11662185</td>\n",
       "      <td>8217390</td>\n",
       "    </tr>\n",
       "  </tbody>\n",
       "</table>\n",
       "<p>374 rows × 3 columns</p>\n",
       "</div>"
      ],
      "text/plain": [
       "            first_dose  second_dose  third_dose\n",
       "date                                           \n",
       "2020-12-20       14752            0           0\n",
       "2020-12-21       64565            0           0\n",
       "2020-12-22      153819            0           0\n",
       "2020-12-23      279561            0           0\n",
       "2020-12-24      426333            0           0\n",
       "...                ...          ...         ...\n",
       "2021-12-24    12804154     11636292     8189859\n",
       "2021-12-25    12807460     11638822     8191841\n",
       "2021-12-26    12818106     11647701     8199948\n",
       "2021-12-27    12828446     11654790     8207973\n",
       "2021-12-28    12839795     11662185     8217390\n",
       "\n",
       "[374 rows x 3 columns]"
      ]
     },
     "execution_count": 37,
     "metadata": {},
     "output_type": "execute_result"
    }
   ],
   "source": [
    "fr.set_index('date')"
   ]
  },
  {
   "cell_type": "code",
   "execution_count": 50,
   "id": "04c91fed-c2b5-44d4-9bc4-4b5cd6dd81cc",
   "metadata": {},
   "outputs": [],
   "source": [
    "import numpy as np"
   ]
  },
  {
   "cell_type": "code",
   "execution_count": 57,
   "id": "ec790e54-a53c-4c5d-a014-58de0447db1c",
   "metadata": {},
   "outputs": [
    {
     "data": {
      "text/plain": [
       "array([1.92026004e+00, 4.09905064e+05])"
      ]
     },
     "execution_count": 57,
     "metadata": {},
     "output_type": "execute_result"
    }
   ],
   "source": [
    "np.polyfit(joint.second_dose_l.values[0:100], joint.second_dose_r.values[0:100], 1)"
   ]
  },
  {
   "cell_type": "code",
   "execution_count": 59,
   "id": "ad7c6836-67db-48b9-afaf-8b97d414e585",
   "metadata": {},
   "outputs": [
    {
     "name": "stdout",
     "output_type": "stream",
     "text": [
      "{'X': '@X', 'Y': '@Y'}\n"
     ]
    },
    {
     "data": {
      "text/html": [
       "\n",
       "\n",
       "\n",
       "\n",
       "\n",
       "\n",
       "  <div class=\"bk-root\" id=\"fa0ed1e2-518f-4d3c-9c3c-de524065e999\" data-root-id=\"1397\"></div>\n"
      ]
     },
     "metadata": {},
     "output_type": "display_data"
    },
    {
     "data": {
      "application/javascript": [
       "(function(root) {\n",
       "  function embed_document(root) {\n",
       "    \n",
       "  const docs_json = {\"486d6f05-0e88-4260-9b56-1e131af62d48\":{\"defs\":[],\"roots\":{\"references\":[{\"attributes\":{\"below\":[{\"id\":\"1406\"}],\"center\":[{\"id\":\"1409\"},{\"id\":\"1413\"}],\"height\":400,\"left\":[{\"id\":\"1410\"}],\"renderers\":[{\"id\":\"1430\"},{\"id\":\"1436\"}],\"title\":{\"id\":\"1477\"},\"toolbar\":{\"id\":\"1420\"},\"width\":400,\"x_range\":{\"id\":\"1398\"},\"x_scale\":{\"id\":\"1402\"},\"y_range\":{\"id\":\"1400\"},\"y_scale\":{\"id\":\"1404\"}},\"id\":\"1397\",\"subtype\":\"Figure\",\"type\":\"Plot\"},{\"attributes\":{},\"id\":\"1402\",\"type\":\"LinearScale\"},{\"attributes\":{},\"id\":\"1414\",\"type\":\"PanTool\"},{\"attributes\":{\"axis_label\":\"Y\",\"coordinates\":null,\"formatter\":{\"id\":\"1480\"},\"group\":null,\"major_label_policy\":{\"id\":\"1481\"},\"ticker\":{\"id\":\"1411\"}},\"id\":\"1410\",\"type\":\"LinearAxis\"},{\"attributes\":{\"coordinates\":null,\"group\":null},\"id\":\"1477\",\"type\":\"Title\"},{\"attributes\":{\"source\":{\"id\":\"1396\"}},\"id\":\"1437\",\"type\":\"CDSView\"},{\"attributes\":{},\"id\":\"1407\",\"type\":\"BasicTicker\"},{\"attributes\":{\"fill_alpha\":{\"value\":0.2},\"fill_color\":{\"value\":\"#1f77b4\"},\"hatch_alpha\":{\"value\":0.2},\"line_alpha\":{\"value\":0.2},\"line_color\":{\"value\":\"#1f77b4\"},\"x\":{\"field\":\"X\"},\"y\":{\"field\":\"Y\"}},\"id\":\"1429\",\"type\":\"Scatter\"},{\"attributes\":{},\"id\":\"1480\",\"type\":\"BasicTickFormatter\"},{\"attributes\":{\"axis\":{\"id\":\"1406\"},\"coordinates\":null,\"group\":null,\"ticker\":null},\"id\":\"1409\",\"type\":\"Grid\"},{\"attributes\":{\"fill_alpha\":{\"value\":0.1},\"fill_color\":{\"value\":\"#1f77b4\"},\"hatch_alpha\":{\"value\":0.1},\"line_alpha\":{\"value\":0.1},\"line_color\":{\"value\":\"#1f77b4\"},\"x\":{\"field\":\"X\"},\"y\":{\"field\":\"Y\"}},\"id\":\"1428\",\"type\":\"Scatter\"},{\"attributes\":{\"coordinates\":null,\"data_source\":{\"id\":\"1395\"},\"glyph\":{\"id\":\"1427\"},\"group\":null,\"hover_glyph\":null,\"muted_glyph\":{\"id\":\"1429\"},\"nonselection_glyph\":{\"id\":\"1428\"},\"view\":{\"id\":\"1431\"}},\"id\":\"1430\",\"type\":\"GlyphRenderer\"},{\"attributes\":{\"axis_label\":\"X\",\"coordinates\":null,\"formatter\":{\"id\":\"1483\"},\"group\":null,\"major_label_policy\":{\"id\":\"1484\"},\"ticker\":{\"id\":\"1407\"}},\"id\":\"1406\",\"type\":\"LinearAxis\"},{\"attributes\":{},\"id\":\"1486\",\"type\":\"Selection\"},{\"attributes\":{},\"id\":\"1400\",\"type\":\"DataRange1d\"},{\"attributes\":{},\"id\":\"1481\",\"type\":\"AllLabels\"},{\"attributes\":{\"tools\":[{\"id\":\"1414\"},{\"id\":\"1415\"},{\"id\":\"1416\"},{\"id\":\"1417\"},{\"id\":\"1418\"},{\"id\":\"1438\"}]},\"id\":\"1420\",\"type\":\"Toolbar\"},{\"attributes\":{\"line_alpha\":0.2,\"line_color\":\"grey\",\"x\":{\"field\":\"X\"},\"y\":{\"field\":\"Y\"}},\"id\":\"1435\",\"type\":\"Line\"},{\"attributes\":{},\"id\":\"1411\",\"type\":\"BasicTicker\"},{\"attributes\":{\"coordinates\":null,\"data_source\":{\"id\":\"1396\"},\"glyph\":{\"id\":\"1433\"},\"group\":null,\"hover_glyph\":null,\"muted_glyph\":{\"id\":\"1435\"},\"nonselection_glyph\":{\"id\":\"1434\"},\"view\":{\"id\":\"1437\"}},\"id\":\"1436\",\"type\":\"GlyphRenderer\"},{\"attributes\":{},\"id\":\"1484\",\"type\":\"AllLabels\"},{\"attributes\":{\"source\":{\"id\":\"1395\"}},\"id\":\"1431\",\"type\":\"CDSView\"},{\"attributes\":{\"callback\":null,\"tooltips\":[[\"X\",\"@X\"],[\"Y\",\"@Y\"]]},\"id\":\"1438\",\"type\":\"HoverTool\"},{\"attributes\":{},\"id\":\"1483\",\"type\":\"BasicTickFormatter\"},{\"attributes\":{\"data\":{\"X\":{\"__ndarray__\":\"AAAAQPm1U0EAAAAgbT5mQQ==\",\"dtype\":\"float64\",\"order\":\"little\",\"shape\":[2]},\"Y\":{\"__ndarray__\":\"AAAAQPm1U0EAAAAgbT5mQQ==\",\"dtype\":\"float64\",\"order\":\"little\",\"shape\":[2]},\"index\":[0,1]},\"selected\":{\"id\":\"1488\"},\"selection_policy\":{\"id\":\"1487\"}},\"id\":\"1396\",\"type\":\"ColumnDataSource\"},{\"attributes\":{},\"id\":\"1417\",\"type\":\"SaveTool\"},{\"attributes\":{},\"id\":\"1485\",\"type\":\"UnionRenderers\"},{\"attributes\":{},\"id\":\"1404\",\"type\":\"LinearScale\"},{\"attributes\":{\"fill_color\":{\"value\":\"#1f77b4\"},\"line_color\":{\"value\":\"#1f77b4\"},\"x\":{\"field\":\"X\"},\"y\":{\"field\":\"Y\"}},\"id\":\"1427\",\"type\":\"Scatter\"},{\"attributes\":{},\"id\":\"1398\",\"type\":\"DataRange1d\"},{\"attributes\":{},\"id\":\"1415\",\"type\":\"WheelZoomTool\"},{\"attributes\":{\"line_alpha\":0.5,\"line_color\":\"grey\",\"x\":{\"field\":\"X\"},\"y\":{\"field\":\"Y\"}},\"id\":\"1433\",\"type\":\"Line\"},{\"attributes\":{\"line_alpha\":0.1,\"line_color\":\"grey\",\"x\":{\"field\":\"X\"},\"y\":{\"field\":\"Y\"}},\"id\":\"1434\",\"type\":\"Line\"},{\"attributes\":{\"overlay\":{\"id\":\"1419\"}},\"id\":\"1416\",\"type\":\"BoxZoomTool\"},{\"attributes\":{\"axis\":{\"id\":\"1410\"},\"coordinates\":null,\"dimension\":1,\"group\":null,\"ticker\":null},\"id\":\"1413\",\"type\":\"Grid\"},{\"attributes\":{\"data\":{\"X\":[5167077,5168241,5169582,5170385,5170512,5173873,5174681,5174681,5177420,5178242,5178242,5178268,5181009,5181841,5181841,5181867,5182052,5184248,5185088,5185088,5185116,5185303,5185484,5187488,5188338,5188338,5188366,5188556,5188737,5188939,5188937,5189792,5189792,5189820,5190015,5190198,5190402,5190620,5189185,5190041,5190041,5190069,5190264,5190447,5191077,5190653,5190871,5192282,5193140,5193140,5193168,5193365,5193549,5194181,5193756,5193974,5194233,5195195,5196057,5196057,5196086,5196283,5196469,5197111,5196680,5196901,5197194,5197163,5198463,5199332,5199332,5199361,5199561,5199747,5200397,5199960,5200183,5200481,5200731,5200450,5201010,5201885,5201885,5201914,5202114,5202300,5202960,5202516,5202743,5203046,5203297,5203503,5203015,5203730,5204609,5204609,5204638,5204839,5205025,5205692,5205242,5205473,5205779,5206033,5206239,5205748,5206411,5205086,5205970,5205970,5205999,5206200,5206386,5207058,5206604,5206835,5207147,5207404,5207610,5207982,5207116,5207783,5205398,5206283,5206283,5206312,5206513,5206700,5207375,5206920,5207152,5207464,5207722,5208638,5207929,5208304,5207433,5208103,5208180,5209065,5209065,5209094,5209295,5209483,5210159,5209703,5209936,5210248,5210507,5211427,5210714,5211437,5211089,5210217,5210888,5211720,5212608,5212608,5212637,5212839,5213027,5213708,5213250,5213483,5213797,5214058,5214986,5214268,5214996,5214644,5213766,5215094,5214442,5217028,5217918,5217918,5217947,5218149,5218338,5219022,5218561,5218794,5219111,5219373,5220315,5219584,5220325,5219965,5219080,5220425,5220699,5219760,5224412,5225308,5225308,5225337,5225539,5225728,5226416,5225952,5226187,5226509,5226771,5227717,5226982,5227727,5227364,5226478,5227828,5228103,5228489,5227158,5233537,5234437,5234437,5234466,5234669,5234858,5235549,5235082,5235318,5235643,5235906,5236866,5236118,5236876,5236505,5235612,5236979,5237256,5237856,5237647,5236294,5239298,5240201,5240201,5240230,5240433,5240622,5241316,5240848,5241085,5241410,5241675,5242639,5241887,5242649,5242274,5241379,5242753,5243032,5243635,5243824,5243424,5242063,5240613,5241517,5241517,5241546,5241750,5241939,5242635,5242165,5242402,5242730,5242995,5243962,5243207,5243972,5243597,5242699,5244076,5244355,5244961,5245151,5244750,5245415,5243384,5250311,5251219,5251219,5251248,5251452,5251641,5252339,5251868,5252105,5252434,5252699,5253668,5252911,5253678,5253303,5252403,5253782,5254062,5254671,5254863,5254460,5255127,5253088,5255245,5261492,5262403,5262403,5262433,5262638,5262827,5263528,5263055,5263291,5263623,5263888,5264858,5264101,5264868,5264493,5263592,5264972,5265253,5265872,5266067,5265656,5266333,5266493,5264278,5266453,5273267,5274181,5274181,5274211,5274416,5274605,5275306,5274833,5275069,5275401,5275667,5276645,5275883,5276655,5276278,5275370,5276761,5277043,5277668,5277864,5277451,5278417,5278130,5278292,5276061,5278252,5284979,5285896,5285896,5285926,5286131,5286322,5287025,5286551,5286788,5287120,5287390,5288372,5287606,5288382,5288003,5287089,5288492,5288775,5289406,5289606,5289186,5290162,5289874,5290037,5287786,5290509,5289997,5298088,5299008,5299008,5299038,5299243,5299434,5300140,5299664,5299902,5300235,5300506,5301495,5300722,5301505,5301123,5300204,5301616,5301900,5302535,5302736,5302313,5303297,5303005,5303171,5300905,5303898,5303648,5303131,5306167,5307090,5307090,5307119,5307325,5307516,5308225,5307746,5307987,5308320,5308591,5309583,5308810,5309593,5309211,5308289,5309705,5309988,5310624,5310825,5310401,5311392,5311097,5311264,5308993,5312008,5311754,5312165,5311224,5307567,5308492,5308492,5308521,5308728,5308919,5314053,5309628,5309149,5309390,5309723,5309994,5310987,5310213,5310997,5310614,5309692,5311109,5311392,5312032,5312235,5311808,5312804,5312507,5312674,5310396,5313421,5313167,5313579,5312634,5322979,5323905,5323905,5323935,5324142,5324332,5329488,5325044,5324562,5324805,5325139,5325410,5326409,5325630,5326419,5326035,5325108,5326530,5326813,5327453,5327656,5327229,5328227,5327928,5328095,5325815,5328848,5328593,5329008,5328055,5336351,5337278,5337278,5337308,5337515,5337705,5342893,5338417,5337935,5338178,5338512,5338783,5339784,5339004,5339794,5339410,5338481,5339905,5340191,5340835,5341038,5340610,5341614,5341311,5341479,5339189,5342244,5341982,5342406,5341439,5349754,5350681,5350681,5350711,5350918,5351108,5356337,5351826,5351340,5351586,5351921,5352192,5353196,5352413,5353208,5352821,5351890,5353319,5353606,5354253,5354456,5354025,5355034,5354729,5354899,5352599,5355679,5355410,5355844,5354858,5361957,5362885,5362885,5362915,5363122,5363312,5368565,5364034,5363545,5363793,5364129,5364400,5365408,5364622,5365420,5365033,5364098,5365533,5365820,5366468,5366671,5366240,5367251,5366946,5367116,5364810,5367901,5367628,5368066,5367075,5375953,5376885,5376885,5376915,5377122,5377314,5382612,5378039,5377550,5377798,5378136,5378407,5379426,5378633,5379438,5379049,5378105,5379551,5379838,5380491,5380697,5380261,5381282,5380973,5381144,5378826,5381944,5381666,5382109,5381103,5386665,5387597,5387597,5387627,5387834,5388026,5393348,5388751,5388262,5388509,5388848,5389120,5390142,5389347,5390155,5389763,5388817,5390268,5390555,5391213,5391420,5390982,5392009,5391699,5391871,5389540,5392674,5392396,5392841,5391829,5390147,5391079,5391079,5391109,5391316,5391508,5396846,5392235,5391744,5391992,5392332,5392605,5393630,5392834,5393643,5393251,5392301,5393756,5394044,5394703,5394910,5394472,5395503,5395191,5395364,5393027,5396170,5395892,5396338,5395322,5393440,5394372,5394372,5394402,5394609,5394801,5400149,5395528,5395037,5395285,5395625,5395898,5396924,5396128,5396937,5396545,5395594,5397050,5397338,5397999,5398207,5397767,5398803,5398488,5398661,5396321,5399473,5399194,5399641,5398619,5396484,5397418,5397418,5397448,5397655,5397847,5403221,5398574,5398083,5398331,5398671,5398944,5399975,5399174,5399988,5399594,5398640,5400102,5400389,5401058,5401266,5400825,5401864,5401548,5401721,5399368,5402540,5402257,5402709,5401679,5399666,5400601,5400601,5400631,5400839,5401032,5406429,5401764,5401269,5401520,5401861,5402134,5403170,5402365,5403183,5402788,5401830,5403298,5403583,5404256,5404465,5404022,5405063,5404747,5404920,5402560,5405744,5405459,5405913,5404878,5402765,5403703,5403703,5403733,5403942,5404135,5409566,5404873,5404373,5404628,5404971,5405244,5406287,5405477,5406300,5405902,5404939,5406416,5406701,5407376,5407587,5407141,5408189,5407871,5408046,5405673,5408873,5408586,5409046,5408003,5406232,5407171,5407171,5407201,5407410,5407603,5413057,5408342,5407841,5408096,5408441,5408716,5409763,5408953,5409776,5409378,5408409,5409892,5410176,5410852,5411065,5410617,5411667,5411349,5411524,5409149,5412356,5412069,5412532,5411481,5407954,5408897,5408897,5408927,5409137,5409330,5414812,5410071,5409568,5409824,5410170,5410445,5411500,5410684,5411513,5411113,5410138,5411631,5411916,5412595,5412810,5412359,5413413,5413095,5413270,5410883,5414109,5413818,5414285,5413227,5408570,5409516,5409516,5409546,5409756,5409949,5415441,5410690,5410187,5410443,5410789,5411064,5412122,5411303,5412135,5411732,5410757,5412254,5412539,5413220,5413435,5412982,5414040,5413721,5413897,5411502,5414737,5414446,5414913,5413854,5411585,5412531,5412531,5412561,5412771,5412964,5418461,5413705,5413202,5413458,5413804,5414079,5415137,5414318,5415150,5414747,5413772,5415269,5415554,5416234,5416450,5415998,5417055,5416736,5416912,5414517,5417752,5417461,5417928,5416869,5414515,5415463,5415463,5415493,5415703,5415896,5421417,5416638,5416134,5416390,5416737,5417012,5418075,5417253,5418088,5417684,5416705,5418207,5418493,5419175,5419392,5418939,5420002,5419680,5419856,5417453,5420702,5420410,5420877,5419813,5417596,5418546,5418546,5418577,5418788,5418981,5424520,5419727,5419221,5419477,5419826,5420103,5421166,5420344,5421179,5420775,5419794,5421298,5421581,5422264,5422483,5422028,5423095,5422771,5422947,5420544,5423797,5423505,5423974,5422904,5420425,5421379,5421379,5421410,5421621,5421814,5427373,5422561,5422055,5422311,5422660,5422937,5424002,5423179,5424015,5423611,5422628,5424134,5424417,5425103,5425323,5424866,5425939,5425613,5425789,5423379,5426644,5426351,5426821,5425746,5423627,5424582,5424582,5424613,5424824,5425017,5430592,5425770,5425260,5425519,5425869,5426146,5427213,5426390,5427226,5426822,5425837,5427346,5427631,5428317,5428537,5428080,5429155,5428829,5429005,5426590,5429860,5429567,5430037,5428962,5425588,5426551,5426551,5426582,5426794,5426988,5432585,5427743,5427232,5427490,5427842,5428121,5429192,5428366,5429204,5428798,5427810,5429325,5429610,5430297,5430519,5430061,5431138,5430811,5430987,5428566,5431848,5431553,5432026,5430944,5426360,5427323,5427323,5427354,5427566,5427760,5433377,5428517,5428004,5428263,5428617,5428896,5429970,5429141,5429982,5429575,5428585,5430105,5430387,5431075,5431299,5430839,5431923,5431594,5431771,5429342,5432637,5432339,5432815,5431727,5430826,5431790,5431790,5431821,5432034,5432228,5437856,5432985,5432472,5432731,5433085,5433364,5434440,5433610,5434452,5434044,5433053,5434575,5434857,5435545,5435769,5435309,5436394,5436065,5436242,5433810,5437110,5436810,5437289,5436198,5435453,5436420,5436420,5436451,5436664,5436859,5442503,5437617,5437103,5437363,5437717,5437998,5439075,5438244,5439087,5438678,5437685,5439210,5439491,5440181,5440405,5439944,5441034,5440703,5440880,5438444,5441753,5441453,5441932,5440836,5440487,5441456,5441456,5441487,5441700,5441895,5447559,5442656,5442140,5442402,5442756,5443039,5444119,5443287,5444131,5443722,5442724,5444254,5444536,5445226,5445451,5444988,5446081,5445750,5445927,5443488,5446803,5446501,5446983,5445883,5445000,5445969,5445969,5446001,5446214,5446410,5452085,5447173,5446657,5446919,5447273,5447557,5448637,5447806,5448649,5448241,5447241,5448772,5449055,5449746,5449971,5449508,5450605,5450272,5450449,5448007,5451327,5451025,5451507,5450405,5450134,5451104,5451104,5451136,5451349,5451546,5457236,5452311,5451794,5452057,5452411,5452697,5453780,5452948,5453791,5453383,5452379,5453915,5454196,5454891,5455115,5454650,5455749,5455416,5455593,5453149,5456472,5456169,5456652,5455549,5452847,5453819,5453819,5453852,5454065,5454262,5459977,5455028,5454511,5454774,5455129,5455416,5456504,5455667,5456516,5456105,5455097,5456640,5456921,5457620,5457847,5457377,5458483,5458150,5458327,5455871,5459207,5458904,5459388,5458283,5454349,5455322,5455322,5455355,5455568,5455765,5461495,5456532,5456014,5456278,5456635,5456923,5458011,5457174,5458023,5457612,5456601,5458147,5458428,5459128,5459355,5458884,5459994,5459660,5459838,5457378,5460721,5460417,5460904,5459793,5459114,5460088,5460088,5460121,5460334,5460531,5466267,5461299,5460780,5461045,5461402,5461691,5462779,5461941,5462791,5462379,5461368,5462915,5463195,5463896,5464123,5463652,5464762,5464428,5464606,5462145,5465492,5465187,5465676,5464561,5463452,5464428,5464428,5464461,5464674,5464872,5470624,5465642,5465121,5465387,5465745,5466032,5467126,5466283,5467138,5466724,5465711,5467262,5467538,5468242,5468470,5467998,5469109,5468775,5468953,5466488,5469841,5469536,5470027,5468908,5468071,5469048,5469048,5469081,5469295,5469493,5475261,5470262,5469741,5470007,5470365,5470652,5471747,5470903,5471759,5471346,5470331,5471883,5472164,5472869,5473097,5472625,5473739,5473403,5473581,5471110,5474475,5474168,5474661,5473536,5472446,5473424,5473424,5473457,5473671,5473869,5479659,5474642,5474117,5474385,5474745,5475031,5476132,5475282,5476144,5475730,5474711,5476268,5476547,5477252,5477481,5477008,5478127,5477788,5477967,5475489,5478869,5478557,5479056,5477921,5477416,5478395,5478395,5478427,5478641,5478840,5484649,5479613,5479088,5479356,5479716,5480002,5481112,5480254,5481124,5480710,5479682,5481248,5481530,5482235,5482464,5481991,5483110,5482771,5482950,5480461,5483854,5483541,5484041,5482904,5480109,5481090,5481090,5481122,5481337,5481537,5487362,5482310,5481785,5482053,5482414,5482701,5483814,5482953,5483826,5483410,5482379,5483950,5484234,5484939,5485170,5484694,5485817,5485477,5485656,5483161,5486566,5486250,5486754,5485610,5481543,5482524,5482524,5482556,5482772,5482972,5488806,5483745,5483220,5483488,5483849,5484136,5485250,5484388,5485262,5484846,5483814,5485386,5485671,5486378,5486610,5486132,5487260,5486919,5487099,5484596,5488009,5487692,5488197,5487053,5487430,5488410,5488410,5488442,5488658,5488858,5494707,5489632,5489107,5489375,5489736,5490024,5491145,5490277,5491157,5490740,5489701,5491282,5491568,5492275,5492507,5492029,5493157,5492816,5492996,5490486,5493906,5493589,5494094,5492950,5494352,5495333,5495333,5495365,5495581,5495781,5501651,5496555,5496030,5496298,5496659,5496949,5498078,5497202,5498090,5497671,5496624,5498215,5498503,5499210,5499442,5498964,5500096,5499754,5499934,5497413,5500847,5500529,5501035,5499888,5500775,5501758,5501758,5501790,5502007,5502207,5508092,5502981,5502456,5502724,5503085,5503374,5504505,5503627,5504517,5504098,5503050,5504642,5504932,5505639,5505872,5505393,5506527,5506184,5506364,5503839,5507284,5506963,5507475,5506318,5506689,5507673,5507673,5507705,5507922,5508122,5514026,5508896,5508371,5508639,5509000,5509289,5510427,5509542,5510439,5510019,5508965,5510564,5510855,5511562,5511795,5511316,5512456,5512110,5512290,5509755,5513214,5512892,5513406,5512244,5513770,5514755,5514755,5514787,5515004,5515204,5521137,5515978,5515454,5515721,5516083,5516371,5517518,5516627,5517530,5517108,5516048,5517655,5517957,5518665,5518898,5518419,5519559,5519213,5519393,5516841,5520317,5519995,5520512,5519347,5517785,5518771,5518771,5518803,5519022,5519222,5525179,5519997,5519472,5519740,5520102,5520390,5521547,5520649,5521559,5521134,5520067,5521684,5521991,5522701,5522934,5522453,5523597,5523249,5523430,5520866,5524357,5524033,5524552,5523383,5519752,5520738,5520738,5520770,5520989,5521189,5527149,5521965,5521439,5521707,5522070,5522358,5523515,5522617,5523527,5523102,5522035,5523652,5523960,5524670,5524903,5524422,5525566,5525218,5525399,5522834,5526327,5526003,5526522,5525352,5526159,5527145,5527145,5527177,5527396,5527598,5533576,5528373,5527848,5528115,5528479,5528767,5529928,5529026,5529941,5529513,5528444,5530066,5530382,5531093,5531326,5530845,5531991,5531642,5531823,5529243,5532754,5532429,5532949,5531776,5528780,5529768,5529768,5529800,5530019,5530221,5536212,5530996,5530471,5530738,5531104,5531392,5532555,5531651,5532568,5532140,5531069,5532693,5533010,5533723,5533956,5533475,5534622,5534272,5534453,5531868,5535387,5535061,5535584,5534406,5529577,5530567,5530567,5530599,5530818,5531020,5537023,5531797,5531270,5531539,5531906,5532194,5533357,5532453,5533370,5532942,5531870,5533495,5533813,5534527,5534760,5534279,5535427,5535076,5535257,5532670,5536195,5535866,5536393,5535210,5530694,5531686,5531686,5531718,5531937,5532139,5538152,5532917,5532389,5532659,5533026,5533316,5534481,5533575,5534494,5534065,5532990,5534619,5534937,5535653,5535885,5535404,5536555,5536204,5536385,5533792,5537323,5536994,5537521,5536338,5543161,5544157,5544157,5544189,5544409,5544611,5550647,5545392,5544861,5545133,5545501,5545791,5546964,5546053,5546976,5546548,5545465,5547104,5547424,5548142,5548375,5547892,5549046,5548695,5548876,5546270,5549816,5549486,5550013,5548829,5548093,5549089,5549089,5549121,5549341,5549543,5555587,5550327,5549795,5550067,5550436,5550726,5551901,5550988,5551913,5551484,5550400,5552041,5552360,5553080,5553313,5552830,5553984,5553633,5553814,5551205,5554755,5554426,5554952,5553767,5550542,5551539,5551539,5551571,5551791,5551992,5558049,5552778,5552244,5552518,5552887,5553177,5554356,5553439,5554368,5553939,5552851,5554496,5554817,5555539,5555772,5555289,5556443,5556092,5556273,5553657,5557216,5556886,5557413,5556226,5559075,5560073,5560073,5560105,5560325,5560526,5566599,5561312,5560778,5561052,5561421,5561711,5562895,5561973,5562907,5562478,5561385,5563035,5563361,5564084,5564318,5563833,5564990,5564639,5564820,5562192,5565764,5565433,5565961,5564773,5567235,5568236,5568236,5568268,5568488,5568689,5574783,5569475,5568941,5569215,5569585,5569875,5571065,5570139,5571077,5570648,5569549,5571205,5571535,5572261,5572495,5572009,5573170,5572819,5573000,5570361,5573945,5573614,5574142,5572953,5574583,5575584,5575584,5575616,5575835,5576036,5582141,5576823,5576289,5576563,5576933,5577224,5578418,5577489,5578430,5577998,5576897,5578558,5578890,5579617,5579851,5579365,5580528,5580177,5580358,5577712,5581302,5580972,5581499,5580311,5577235,5578236,5578236,5578268,5578487,5578688,5584805,5579476,5578941,5579216,5579586,5579877,5581072,5580142,5581084,5580652,5579550,5581212,5581546,5582273,5582507,5582021,5583185,5582833,5583014,5580366,5583961,5583630,5584159,5582967,5577728,5578729,5578729,5578761,5578980,5579182,5585310,5579971,5579435,5579711,5580081,5580372,5581572,5580637,5581584,5581150,5580045,5581712,5582047,5582775,5583009,5582522,5583689,5583337,5583518,5580861,5584466,5584135,5584664,5583471,5584668,5585671,5585671,5585703,5585922,5586125,5592269,5586914,5586378,5586654,5587026,5587317,5588520,5587585,5588532,5588099,5586989,5588660,5588995,5589724,5589959,5589471,5590641,5590288,5590469,5587810,5591421,5591087,5591621,5590422,5587566,5588569,5588569,5588602,5588822,5589024,5595175,5589813,5589277,5589553,5589925,5590217,5591420,5590485,5591432,5590999,5589888,5591560,5591897,5592626,5592861,5592373,5593543,5593190,5593371,5590710,5594325,5593989,5594527,5593324,5598243,5599248,5599248,5599281,5599501,5599703,5605862,5600492,5599956,5600232,5600606,5600898,5602102,5601166,5602114,5601680,5600569,5602242,5602580,5603309,5603545,5603056,5604228,5603873,5604054,5601391,5605011,5604674,5605214,5604007,5602832,5603837,5603837,5603870,5604091,5604293,5610457,5605083,5604547,5604823,5605197,5605489,5606692,5605757,5606704,5606270,5605160,5606832,5607171,5607902,5608138,5607649,5608820,5608466,5608647,5605982,5609604,5609266,5609808,5608600,5604831,5605837,5605837,5605870,5606091,5606294,5612465,5607084,5606548,5606824,5607198,5607492,5608694,5607759,5608706,5608272,5607161,5608834,5609176,5609908,5610144,5609655,5610828,5610474,5610655,5607984,5611612,5611274,5611816,5610608,5612026,5613033,5613033,5613066,5613287,5613490,5619668,5614280,5613744,5614020,5614394,5614688,5615893,5614957,5615905,5615470,5614357,5616033,5616376,5617109,5617345,5616857,5618030,5617676,5617857,5615182,5618815,5618477,5619019,5617810,5617864,5618871,5618871,5618904,5619125,5619329,5625521,5620121,5619585,5619861,5620236,5620530,5621740,5620799,5621752,5621316,5620199,5621880,5622223,5622958,5623194,5622706,5623880,5623525,5623706,5621028,5624668,5624330,5624872,5623659,5621977,5622986,5622986,5623019,5623240,5623444,5629648,5624239,5623701,5623979,5624354,5624648,5625859,5624917,5625871,5625435,5624317,5625999,5626343,5627079,5627315,5626827,5628003,5627648,5627829,5625146,5628791,5628453,5628997,5627782,5624195,5625204,5625204,5625237,5625458,5625662,5631874,5626458,5625919,5626197,5626573,5626867,5628080,5627136,5628092,5627656,5626536,5628220,5628565,5629302,5629538,5629050,5630227,5629872,5630053,5627365,5631016,5630678,5631223,5630006,5630130,5631140,5631140,5631173,5631394,5631598,5637821,5632395,5631855,5632134,5632510,5632804,5634019,5633074,5634031,5633595,5632473,5634159,5634511,5635247,5635484,5634995,5636173,5635818,5635999,5633303,5636963,5636624,5637170,5635952,5634527,5635539,5635539,5635572,5635793,5635998,5642232,5636798,5636258,5636536,5636912,5637207,5638422,5637477,5638434,5637998,5636876,5638562,5638914,5639653,5639890,5639401,5640579,5640224,5640405,5637706,5641373,5641032,5641580,5640358,5635673,5636686,5636686,5636719,5636940,5637145,5643382,5637945,5637405,5637683,5638059,5638354,5639569,5638624,5639581,5639145,5638023,5639709,5640062,5640801,5641038,5640549,5641727,5641372,5641553,5638853,5642522,5642180,5642730,5641506,5643966,5644981,5644981,5645014,5645236,5645441,5651682,5646241,5645701,5645979,5646355,5646650,5647865,5646920,5647877,5647441,5646319,5648005,5648359,5649097,5649335,5648845,5650027,5649670,5649851,5647149,5650822,5650480,5651030,5649804,5652453,5653470,5653470,5653503,5653726,5653931,5660182,5654734,5654193,5654471,5654848,5655144,5656361,5655414,5656373,5655936,5654812,5656501,5656856,5657595,5657833,5657342,5658526,5658169,5658350,5655644,5659321,5658979,5659529,5658303,5656242,5657265,5657265,5657298,5657521,5657726,5663986,5658531,5657988,5658266,5658645,5658942,5660160,5659213,5660172,5659735,5658609,5660300,5660655,5661394,5661632,5661141,5662326,5661969,5662150,5659443,5663122,5662780,5663332,5662103,5658335,5659358,5659358,5659391,5659614,5659819,5666080,5660624,5660081,5660359,5660738,5661035,5662253,5661306,5662265,5661828,5660702,5662393,5662748,5663488,5663726,5663235,5664420,5664063,5664244,5661536,5665216,5664874,5665426,5664197,5665565,5666592,5666592,5666625,5666848,5667053,5673322,5667859,5667316,5667594,5667973,5668270,5669489,5668543,5669501,5669065,5667937,5669629,5669987,5670726,5670964,5670473,5671659,5671302,5671483,5668773,5672456,5672114,5672668,5671436,5672266,5673296,5673296,5673329,5673552,5673757,5680033,5674563,5674020,5674298,5674677,5674974,5676195,5675247,5676207,5675770,5674641,5676335,5676696,5677437,5677675,5677182,5678371,5678013,5678195,5675477,5679168,5678826,5679380,5678148,5677507,5678538,5678538,5678571,5678794,5678999,5685286,5679805,5679263,5679541,5679919,5680217,5681439,5680490,5681451,5681013,5679883,5681580,5681945,5682687,5682926,5682432,5683622,5683264,5683446,5680720,5684420,5684078,5684632,5683399,5681610,5682644,5682644,5682677,5682901,5683104,5689410,5683912,5683369,5683648,5684026,5684324,5685555,5684599,5685567,5685127,5683990,5685696,5686062,5686805,5687045,5686550,5687744,5687386,5687568,5684831,5688542,5688200,5688754,5687521,5685568,5686602,5686602,5686636,5686861,5687064,5693379,5687873,5687330,5687609,5687987,5688286,5689518,5688560,5689530,5689088,5687951,5689659,5690026,5690769,5691012,5690514,5691712,5691354,5691536,5688792,5692510,5692168,5692722,5691489,5688139,5689173,5689173,5689207,5689432,5689636,5695961,5690445,5689902,5690181,5690559,5690858,5692094,5691132,5692106,5691662,5690523,5692235,5692605,5693348,5693592,5693093,5694293,5693934,5694117,5691365,5695092,5694749,5695305,5694070,5689538,5690572,5690572,5690606,5690831,5691035,5697365,5691844,5691301,5691580,5691959,5692258,5693495,5692532,5693507,5693063,5691923,5693636,5694006,5694749,5694993,5694494,5695694,5695335,5695518,5692765,5696496,5696151,5696709,5695471,5693243,5694283,5694283,5694317,5694542,5694747,5701085,5695556,5695013,5695292,5695671,5695970,5697209,5696245,5697221,5696777,5695635,5697350,5697722,5698465,5698709,5698210,5699413,5699054,5699237,5696478,5700216,5699871,5700429,5699190,5696133,5697176,5697176,5697210,5697435,5697642,5703990,5698454,5697909,5698188,5698568,5698867,5700108,5699142,5700120,5699675,5698533,5700249,5700623,5701369,5701613,5701111,5702317,5701958,5702141,5699376,5703121,5702775,5703334,5702094,5699088,5700133,5700133,5700167,5700392,5700599,5706955,5701412,5700866,5701146,5701526,5701827,5703071,5702102,5703083,5702638,5701491,5703212,5703586,5704334,5704578,5704076,5705282,5704923,5705106,5702336,5706087,5705741,5706299,5705059,5701487,5702532,5702532,5702566,5702793,5703000,5709367,5703814,5703268,5703548,5703928,5704229,5705476,5704506,5705488,5705042,5703893,5705617,5705995,5706744,5706988,5706486,5707694,5707334,5707517,5704740,5708499,5708153,5708711,5707470,5704123,5705168,5705168,5705202,5705429,5705636,5712010,5706451,5705904,5706185,5706565,5706866,5708114,5707143,5708126,5707680,5706530,5708255,5708635,5709384,5709628,5709126,5710335,5709975,5710158,5707377,5711140,5710794,5711353,5710111,5705755,5706802,5706802,5706836,5707063,5707270,5713650,5708085,5707538,5707819,5708199,5708501,5709750,5708778,5709762,5709316,5708164,5709891,5710274,5711023,5711267,5710765,5711975,5711615,5711798,5709012,5712780,5712434,5712993,5711751,5706671,5707718,5707718,5707752,5707979,5708186,5714570,5709001,5708454,5708735,5709115,5709418,5710669,5709696,5710681,5710234,5709080,5710810,5711193,5711942,5712187,5711684,5712895,5712535,5712718,5709930,5713700,5713354,5713913,5712671,5709171,5710218,5710218,5710252,5710479,5710686,5717073,5711502,5710954,5711236,5711616,5711919,5713171,5712197,5713183,5712736,5711581,5713312,5713695,5714445,5714690,5714186,5715398,5715038,5715221,5712432,5716203,5715856,5716416,5715174,5710796,5711843,5711843,5711877,5712105,5712312,5718704,5713128,5712580,5712862,5713242,5713545,5714797,5713823,5714809,5714362,5713207,5714938,5715320,5716072,5716317,5715813,5717027,5716665,5716850,5714058,5717832,5717485,5718045,5716803,5712025,5713073,5713073,5713107,5713335,5713542,5719939,5714358,5713810,5714092,5714472,5714775,5716029,5715053,5716042,5715593,5714437,5716170,5716553,5717306,5717551,5717047,5718262,5717899,5718084,5715289,5719067,5718720,5719280,5718037,5714269,5715318,5715318,5715352,5715580,5715787,5722200,5716605,5716056,5716338,5716719,5717023,5718279,5717302,5718292,5717841,5716684,5718420,5718803,5719558,5719803,5719298,5720517,5720153,5720339,5717538,5721326,5720978,5721540,5720292,5717307,5718357,5718357,5718391,5718620,5718829,5725251,5719648,5719098,5719380,5719762,5720066,5721327,5720346,5721340,5720889,5719727,5721468,5721853,5722609,5722854,5722349,5723568,5723204,5723390,5720584,5724377,5724029,5724591,5723343,5718688,5719740,5719740,5719774,5720003,5720212,5726642,5721031,5720481,5720763,5721145,5721449,5722713,5721729,5722726,5722274,5721110,5722854,5723239,5723996,5724241,5723736,5724956,5724591,5724777,5721967,5725766,5725417,5725980,5724730,5719921,5720974,5720974,5721008,5721237,5721446,5727879,5722265,5721715,5721997,5722379,5722683,5723947,5722963,5723960,5723508,5722344,5724088,5724473,5725230,5725477,5724970,5726193,5725827,5726013,5723201,5727003,5726654,5727217,5725966,5722558,5723610,5723610,5723644,5723873,5724082,5730524,5724901,5724351,5724632,5725015,5725319,5726587,5725602,5726600,5726148,5724980,5726728,5727112,5727870,5728117,5727610,5728835,5728468,5728654,5725840,5729646,5729297,5729862,5728607,5725241,5726294,5726294,5726328,5726557,5726766,5733221,5727586,5727036,5727317,5727700,5728004,5729278,5728288,5729291,5728838,5727665,5729419,5729803,5730561,5730808,5730301,5731526,5731159,5731345,5728527,5732341,5731989,5732557,5731298,5727234,5728289,5728289,5728323,5728552,5728762,5735227,5729583,5729032,5729314,5729697,5730001,5731280,5730288,5731293,5730839,5729662,5731421,5731805,5732563,5732810,5732303,5733530,5733162,5733349,5730527,5734344,5733993,5734561,5733302,5729740,5730795,5730795,5730829,5731058,5731268,5737746,5732090,5731539,5731821,5732204,5732508,5733788,5732796,5733801,5733347,5732169,5733929,5734321,5735081,5735328,5734820,5736048,5735680,5735867,5733035,5736862,5736511,5737080,5735820,5732442,5733497,5733497,5733531,5733760,5733970,5740462,5734793,5734242,5734524,5734907,5735211,5736494,5735503,5736507,5736053,5734872,5736635,5737031,5737791,5738038,5737530,5738760,5738390,5738578,5735741,5739576,5739225,5739795,5738531,5733528,5734586,5734586,5734620,5734849,5735059,5741559,5735882,5735331,5735613,5735996,5736302,5737585,5736594,5737598,5737144,5735961,5737726,5738123,5738884,5739131,5738623,5739855,5739485,5739673,5736832,5740672,5740321,5740891,5739626,5734027,5735085,5735085,5735119,5735348,5735558,5742063,5736382,5735831,5736113,5736496,5736802,5738086,5737094,5738099,5737645,5736461,5738227,5738625,5739386,5739633,5739125,5740358,5739987,5740175,5737333,5741176,5740825,5741395,5740128,5736487,5737547,5737547,5737581,5737810,5738020,5744533,5738845,5738293,5738576,5738958,5739264,5740553,5739560,5740566,5740112,5738923,5740694,5741091,5741854,5742101,5741591,5742827,5742456,5742644,5739799,5743645,5743294,5743864,5742597,5738542,5739603,5739603,5739637,5739866,5740076,5746603,5740905,5740349,5740632,5741021,5741327,5742618,5741624,5742631,5742177,5740983,5742759,5743158,5743922,5744169,5743658,5744895,5744524,5744712,5741863,5745715,5745364,5745934,5744665,5740521,5741587,5741587,5741620,5741850,5742060,5748599,5742890,5742333,5742616,5743007,5743314,5744607,5743614,5744620,5744166,5742969,5744749,5745152,5745917,5746164,5745653,5746890,5746519,5746707,5743852,5747710,5747359,5747929,5746660,5742365,5743433,5743433,5743466,5743696,5743907,5750454,5744740,5744181,5744466,5744857,5745165,5746459,5745466,5746472,5746018,5744819,5746601,5747006,5747772,5748019,5747508,5748745,5748374,5748562,5745704,5749565,5749214,5749784,5748515,5745122,5746190,5746190,5746223,5746454,5746665,5753223,5747503,5746940,5747226,5747621,5747929,5749225,5748230,5749238,5748784,5747583,5749367,5749773,5750538,5750785,5750274,5751512,5751141,5751329,5748469,5752333,5751982,5752552,5751282,5745976,5747044,5747044,5747078,5747309,5747520,5754092,5748359,5747796,5748082,5748478,5748788,5750092,5749092,5750105,5749648,5748439,5750234,5750641,5751406,5751653,5751142,5752380,5752009,5752197,5749332,5753202,5752851,5753421,5752150,5746346,5747414,5747414,5747448,5747680,5747891,5754464,5748730,5748167,5748453,5748849,5749159,5750463,5749463,5750476,5750019,5748810,5750605,5751012,5751777,5752024,5751513,5752751,5752380,5752568,5749703,5753573,5753222,5753792,5752521,5748089,5749158,5749158,5749192,5749425,5749637,5756219,5750478,5749913,5750201,5750597,5750907,5752214,5751216,5752227,5751772,5750558,5752356,5752763,5753530,5753777,5753265,5754505,5754133,5754321,5751456,5755329,5754976,5755547,5754274,5749636,5750706,5750706,5750740,5750973,5751185,5757779,5752026,5751461,5751749,5752145,5752455,5753766,5752766,5753779,5753323,5752106,5753910,5754318,5755085,5755333,5754820,5756062,5755689,5755877,5753007,5756888,5756534,5757107,5755830,5751180,5752251,5752251,5752285,5752518,5752730,5759345,5753572,5753007,5753295,5753692,5754004,5755321,5754319,5755334,5754877,5753652,5755465,5755874,5756646,5756895,5756379,5757626,5757251,5757441,5754560,5758453,5758098,5758673,5757394,5752774,5753847,5753847,5753881,5754114,5754327,5760964,5755174,5754606,5754894,5755294,5755606,5756929,5755926,5756942,5756485,5755254,5757074,5757486,5758261,5758509,5757994,5759242,5758866,5759056,5756168,5760071,5759715,5760292,5759009,5754677,5755753,5755753,5755786,5756020,5756233,5762880,5757082,5756512,5756802,5757201,5757513,5758841,5757837,5758854,5758397,5757161,5758987,5759399,5760174,5760422,5759907,5761156,5760780,5760970,5758079,5761987,5761630,5762208,5760923,5755455,5756532,5756532,5756565,5756799,5757012,5763670,5757862,5757291,5757581,5757981,5758293,5759624,5758619,5759637,5759180,5757941,5759770,5760185,5760960,5761208,5760693,5761943,5761566,5761756,5758862,5762775,5762417,5762998,5761709,5755723,5756800,5756800,5756833,5757067,5757280,5763942,5758130,5757559,5757849,5758249,5758561,5759893,5758888,5759906,5759449,5758209,5760039,5760456,5761231,5761479,5760964,5762215,5761837,5762028,5759131,5763047,5762689,5763270,5761980,5757320,5758397,5758397,5758430,5758667,5758881,5765549,5759731,5759160,5759450,5759850,5760163,5761496,5760491,5761509,5761052,5759810,5761642,5762059,5762837,5763085,5762569,5763821,5763443,5763634,5760734,5764653,5764295,5764876,5763586,5758884,5759965,5759965,5759998,5760235,5760451,5767126,5761302,5760730,5761019,5761421,5761734,5763067,5762062,5763080,5762623,5761381,5763213,5763630,5764409,5764659,5764140,5765394,5765017,5765208,5762305,5766227,5765869,5766450,5765160,5760247,5761328,5761328,5761361,5761597,5761814,5768504,5762669,5762094,5762385,5762788,5763101,5764436,5763430,5764449,5763992,5762748,5764582,5764999,5765781,5766033,5765511,5766769,5766391,5766583,5763674,5767605,5767245,5767828,5766535,5761757,5762840,5762840,5762873,5763112,5763329,5770031,5764188,5763611,5763903,5764308,5764621,5765962,5764956,5765975,5765518,5764267,5766108,5766524,5767308,5767560,5767038,5768296,5767918,5768110,5765200,5769132,5768772,5769355,5768062,5763374,5764461,5764461,5764494,5764734,5764952,5771674,5765813,5765234,5765526,5765933,5766247,5767595,5766589,5767608,5767151,5765892,5767741,5768158,5768945,5769197,5768674,5769934,5769556,5769748,5766833,5770773,5770410,5770997,5769700,5764084,5765171,5765171,5765204,5765445,5765663,5772398,5766528,5765946,5766240,5766648,5766962,5768312,5767306,5768325,5767868,5766607,5768459,5768878,5769666,5769919,5769394,5770656,5770278,5770470,5767550,5771495,5771132,5771719,5770422,5764311,5765399,5765399,5765432,5765673,5765891,5772628,5766757,5766174,5766469,5766877,5767192,5768542,5767536,5768555,5768098,5766836,5768689,5769108,5769896,5770149,5769624,5770886,5770508,5770700,5767780,5771725,5771362,5771949,5770652,5765802,5766893,5766893,5766926,5767167,5767385,5774132,5768251,5767668,5767964,5768371,5768687,5770044,5769038,5770057,5769601,5768330,5770190,5770609,5771399,5771652,5771127,5772390,5772012,5772204,5769282,5773229,5772866,5773453,5772156,5767277,5768372,5768372,5768405,5768646,5768865,5775621,5769730,5769148,5769443,5769850,5770166,5771525,5770519,5771538,5771082,5769809,5771671,5772091,5772883,5773137,5772611,5773876,5773498,5773690,5770763,5774715,5774352,5774940,5773642,5768898,5770009,5770009,5770043,5770285,5770504,5777267,5771368,5770787,5771082,5771488,5771805,5773167,5772160,5773180,5772723,5771447,5773313,5773733,5774526,5774780,5774253,5775520,5775142,5775335,5772404,5776360,5775997,5776585,5775287,5770152,5771269,5771269,5771303,5771545,5771764,5778548,5772628,5772047,5772342,5772748,5773066,5774439,5773431,5774452,5773994,5772707,5774585,5775009,5775801,5776055,5775528,5776797,5776418,5776612,5773675,5777638,5777275,5777864,5776564,5771696,5772816,5772816,5772851,5773093,5773313,5780111,5774181,5773597,5773895,5774301,5774619,5775997,5774989,5776010,5775552,5774260,5776144,5776571,5777364,5777619,5777090,5778361,5777982,5778176,5775233,5779202,5778839,5779427,5778128,5772392,5773511,5773511,5773546,5773788,5774008,5780819,5774880,5774294,5774592,5775001,5775319,5776702,5775690,5776715,5776256,5774960,5776849,5777275,5778070,5778325,5777794,5779069,5778688,5778882,5775936,5779910,5779547,5780135,5778834,5772690,5773809,5773809,5773844,5774086,5774306,5781119,5775180,5774592,5774890,5775301,5775619,5777002,5775990,5777015,5776556,5775260,5777149,5777575,5778370,5778625,5778094,5779369,5778988,5779182,5776236,5780210,5779847,5780435,5779134,5773207,5775251,5775251,5775288,5775530,5775751,5782579,5776628,5776039,5776338,5776749,5777067,5778457,5777441,5778470,5778008,5776708,5778604,5779030,5779827,5780083,5779551,5780827,5780445,5780640,5777688,5781669,5781306,5781897,5780591,5776338,5776338,5776375,5776617,5776839,5783682,5777718,5777130,5777429,5777838,5778156,5779554,5778532,5779567,5779103,5777797,5779702,5780127,5780925,5781181,5780649,5781927,5781543,5781740,5778779,5782772,5782407,5782999,5781689,5777308,5777308,5777345,5777589,5777813,5784670,5778695,5778104,5778405,5778815,5779133,5780538,5779510,5780551,5780084,5778773,5780686,5781112,5781910,5782167,5781634,5782914,5782529,5782726,5779757,5783759,5783394,5783986,5782675,5778325,5778325,5778364,5778611,5778836,5785727,5779723,5779128,5779430,5779843,5780161,5781580,5780551,5781593,5781124,5779801,5781730,5782158,5782960,5783217,5782681,5783966,5783579,5783777,5780797,5784815,5784450,5785042,5783725,5779693,5779693,5779732,5779980,5780209,5787129,5781101,5780502,5780806,5781221,5781539,5782970,5781938,5782984,5782513,5781179,5783121,5783551,5784355,5784614,5784076,5785363,5784976,5785174,5782185,5786214,5785848,5786440,5785122,5779892,5779892,5780328,5780576,5780806,5787751,5781698,5781099,5781403,5781818,5782137,5783584,5782549,5783597,5783126,5781776,5783736,5784167,5784972,5785231,5784693,5785984,5785595,5785795,5782796,5786836,5786469,5787062,5785741,5780469,5780797,5781027,5787973,5781920,5781321,5781625,5782040,5782359,5783806,5782771,5783819,5783348,5781998,5783958,5784389,5785194,5785453,5784915,5786206,5785817,5786017,5783018,5787058,5786691,5787284,5785963,5781888,5782247,5789208,5783145,5782544,5782850,5783265,5783585,5785036,5783999,5785049,5784577,5783223,5785188,5785620,5786428,5786687,5786149,5787440,5787052,5787252,5784247,5788293,5787926,5788519,5787198,5783223,5790367,5784291,5783688,5783993,5784411,5784731,5786191,5785150,5786204,5785729,5784369,5786344,5786771,5787580,5787839,5787301,5788595,5788205,5788405,5785399,5789450,5789083,5789677,5788351,5791788,5785699,5785060,5785394,5785819,5786139,5787602,5786562,5787615,5787141,5785777,5787756,5788182,5788997,5789256,5788715,5790014,5789623,5789824,5786811,5790870,5790503,5791097,5789769,5792943,5786839,5786390,5786963,5787285,5788752,5787712,5788765,5788291,5786918,5788906,5789331,5790148,5790407,5789866,5791165,5790774,5790975,5787961,5792022,5791654,5792249,5790920,5794142,5787953,5788143,5788465,5789940,5788899,5789953,5789478,5788098,5790095,5790520,5791336,5791596,5791055,5792356,5791964,5792165,5789148,5793216,5792847,5793444,5792110,5794791,5788776,5789100,5790581,5789540,5790594,5790120,5788571,5790736,5791161,5791978,5792239,5791696,5793000,5792608,5792809,5789790,5793861,5793492,5794090,5792754,5795030,5789005,5789334,5790817,5789776,5790830,5790356,5790972,5791397,5792215,5792477,5791933,5793239,5792846,5793047,5790026,5794100,5793731,5794329,5792992,5796431,5790662,5792211,5791165,5792224,5791749,5792366,5792793,5793610,5793873,5793327,5794636,5794243,5794444,5791417,5795501,5795131,5795730,5794389,5797770,5793542,5792471,5793555,5793080,5793697,5794123,5794945,5795206,5794658,5795970,5795576,5795777,5792747,5796837,5796466,5797068,5795722,5803842,5799587,5799601,5799116,5799744,5800179,5800999,5801262,5800711,5802030,5801636,5801837,5796279,5802906,5802535,5803138,5801782,5811207,5806939,5806953,5801224,5807097,5807533,5808354,5808620,5808066,5809391,5808995,5809196,5810269,5809895,5810501,5809141,5819785,5814372,5815475,5815625,5816062,5816896,5817162,5816606,5817940,5817540,5817741,5818844,5818467,5819078,5817686,5824883,5815475,5820695,5821135,5821972,5822238,5821680,5823016,5822616,5822816,5823940,5823562,5824175,5822762,5827772,5823341,5824017,5824858,5825124,5824566,5825902,5825502,5825701,5826828,5826450,5827063,5825647,5837084,5826457,5834134,5834400,5833842,5835178,5834778,5834977,5836137,5835756,5836370,5834923,5844568,5841393,5841660,5841043,5842445,5842039,5842241,5843428,5843027,5843854,5842186,5853166,5848524,5849747,5850538,5850129,5850332,5851530,5851123,5852452,5850277,5861268,5852419,5858340,5857930,5858134,5859335,5858927,5860553,5858079,5871500,5868388,5865971,5868174,5869386,5868977,5870779,5868118,5877716,5874599,5874384,5875600,5875190,5876993,5873301,5880276,5877158,5876685,5878159,5877749,5879553,5889168,5879056,5887049,5886634,5888443,5896270,5894143,5892871,5895542,5903683,5901291,5902956,5909606,5904296,5916676],\"Y\":{\"__ndarray__\":\"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\",\"dtype\":\"float64\",\"order\":\"little\",\"shape\":[4800]},\"date\":{\"__ndarray__\":\"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\",\"dtype\":\"float64\",\"order\":\"little\",\"shape\":[4800]}},\"selected\":{\"id\":\"1486\"},\"selection_policy\":{\"id\":\"1485\"}},\"id\":\"1395\",\"type\":\"ColumnDataSource\"},{\"attributes\":{},\"id\":\"1418\",\"type\":\"ResetTool\"},{\"attributes\":{},\"id\":\"1487\",\"type\":\"UnionRenderers\"},{\"attributes\":{},\"id\":\"1488\",\"type\":\"Selection\"},{\"attributes\":{\"bottom_units\":\"screen\",\"coordinates\":null,\"fill_alpha\":0.5,\"fill_color\":\"lightgrey\",\"group\":null,\"left_units\":\"screen\",\"level\":\"overlay\",\"line_alpha\":1.0,\"line_color\":\"black\",\"line_dash\":[4,4],\"line_width\":2,\"right_units\":\"screen\",\"syncable\":false,\"top_units\":\"screen\"},\"id\":\"1419\",\"type\":\"BoxAnnotation\"}],\"root_ids\":[\"1397\"]},\"title\":\"Bokeh Application\",\"version\":\"2.4.2\"}};\n",
       "  const render_items = [{\"docid\":\"486d6f05-0e88-4260-9b56-1e131af62d48\",\"root_ids\":[\"1397\"],\"roots\":{\"1397\":\"fa0ed1e2-518f-4d3c-9c3c-de524065e999\"}}];\n",
       "  root.Bokeh.embed.embed_items_notebook(docs_json, render_items);\n",
       "\n",
       "  }\n",
       "  if (root.Bokeh !== undefined) {\n",
       "    embed_document(root);\n",
       "  } else {\n",
       "    let attempts = 0;\n",
       "    const timer = setInterval(function(root) {\n",
       "      if (root.Bokeh !== undefined) {\n",
       "        clearInterval(timer);\n",
       "        embed_document(root);\n",
       "      } else {\n",
       "        attempts++;\n",
       "        if (attempts > 100) {\n",
       "          clearInterval(timer);\n",
       "          console.log(\"Bokeh: ERROR: Unable to run BokehJS code because BokehJS library is missing\");\n",
       "        }\n",
       "      }\n",
       "    }, 10, root)\n",
       "  }\n",
       "})(window);"
      ],
      "application/vnd.bokehjs_exec.v0+json": ""
     },
     "metadata": {
      "application/vnd.bokehjs_exec.v0+json": {
       "id": "1397"
      }
     },
     "output_type": "display_data"
    },
    {
     "data": {
      "text/plain": [
       "Figure(id='1397', ...)"
      ]
     },
     "execution_count": 59,
     "metadata": {},
     "output_type": "execute_result"
    }
   ],
   "source": [
    "charts.Dots(joint.second_dose_l, joint.second_dose_r).with_identity()"
   ]
  },
  {
   "cell_type": "code",
   "execution_count": 56,
   "id": "49b6e783-2c9c-4a16-b313-124b01c33ed7",
   "metadata": {},
   "outputs": [
    {
     "data": {
      "text/html": [
       "<div>\n",
       "<style scoped>\n",
       "    .dataframe tbody tr th:only-of-type {\n",
       "        vertical-align: middle;\n",
       "    }\n",
       "\n",
       "    .dataframe tbody tr th {\n",
       "        vertical-align: top;\n",
       "    }\n",
       "\n",
       "    .dataframe thead th {\n",
       "        text-align: right;\n",
       "    }\n",
       "</style>\n",
       "<table border=\"1\" class=\"dataframe\">\n",
       "  <thead>\n",
       "    <tr style=\"text-align: right;\">\n",
       "      <th></th>\n",
       "      <th>first_dose_l</th>\n",
       "      <th>second_dose_l</th>\n",
       "      <th>third_dose_l</th>\n",
       "      <th>first_dose_r</th>\n",
       "      <th>second_dose_r</th>\n",
       "      <th>third_dose_r</th>\n",
       "    </tr>\n",
       "    <tr>\n",
       "      <th>date</th>\n",
       "      <th></th>\n",
       "      <th></th>\n",
       "      <th></th>\n",
       "      <th></th>\n",
       "      <th></th>\n",
       "      <th></th>\n",
       "    </tr>\n",
       "  </thead>\n",
       "  <tbody>\n",
       "    <tr>\n",
       "      <th>2021-06-22</th>\n",
       "      <td>5520990</td>\n",
       "      <td>5167077</td>\n",
       "      <td>0</td>\n",
       "      <td>11039693.0</td>\n",
       "      <td>10332325.0</td>\n",
       "      <td>0.0</td>\n",
       "    </tr>\n",
       "    <tr>\n",
       "      <th>2021-06-23</th>\n",
       "      <td>5531571</td>\n",
       "      <td>5168241</td>\n",
       "      <td>0</td>\n",
       "      <td>11060851.0</td>\n",
       "      <td>10334637.0</td>\n",
       "      <td>0.0</td>\n",
       "    </tr>\n",
       "    <tr>\n",
       "      <th>2021-06-24</th>\n",
       "      <td>5543452</td>\n",
       "      <td>5169582</td>\n",
       "      <td>0</td>\n",
       "      <td>11084607.0</td>\n",
       "      <td>10337313.0</td>\n",
       "      <td>0.0</td>\n",
       "    </tr>\n",
       "    <tr>\n",
       "      <th>2021-06-25</th>\n",
       "      <td>5550417</td>\n",
       "      <td>5170385</td>\n",
       "      <td>0</td>\n",
       "      <td>11098517.0</td>\n",
       "      <td>10338889.0</td>\n",
       "      <td>0.0</td>\n",
       "    </tr>\n",
       "    <tr>\n",
       "      <th>2021-06-26</th>\n",
       "      <td>5552616</td>\n",
       "      <td>5170512</td>\n",
       "      <td>0</td>\n",
       "      <td>11102879.0</td>\n",
       "      <td>10339108.0</td>\n",
       "      <td>0.0</td>\n",
       "    </tr>\n",
       "    <tr>\n",
       "      <th>...</th>\n",
       "      <td>...</td>\n",
       "      <td>...</td>\n",
       "      <td>...</td>\n",
       "      <td>...</td>\n",
       "      <td>...</td>\n",
       "      <td>...</td>\n",
       "    </tr>\n",
       "    <tr>\n",
       "      <th>2021-12-28</th>\n",
       "      <td>6535688</td>\n",
       "      <td>5901291</td>\n",
       "      <td>4217518</td>\n",
       "      <td>12839795.0</td>\n",
       "      <td>11662185.0</td>\n",
       "      <td>8217390.0</td>\n",
       "    </tr>\n",
       "    <tr>\n",
       "      <th>2021-12-28</th>\n",
       "      <td>6537340</td>\n",
       "      <td>5902956</td>\n",
       "      <td>4219217</td>\n",
       "      <td>12839795.0</td>\n",
       "      <td>11662185.0</td>\n",
       "      <td>8217390.0</td>\n",
       "    </tr>\n",
       "    <tr>\n",
       "      <th>2021-12-29</th>\n",
       "      <td>6547908</td>\n",
       "      <td>5909606</td>\n",
       "      <td>4227734</td>\n",
       "      <td>NaN</td>\n",
       "      <td>NaN</td>\n",
       "      <td>NaN</td>\n",
       "    </tr>\n",
       "    <tr>\n",
       "      <th>2021-12-29</th>\n",
       "      <td>6539014</td>\n",
       "      <td>5904296</td>\n",
       "      <td>4222099</td>\n",
       "      <td>NaN</td>\n",
       "      <td>NaN</td>\n",
       "      <td>NaN</td>\n",
       "    </tr>\n",
       "    <tr>\n",
       "      <th>2021-12-30</th>\n",
       "      <td>6558081</td>\n",
       "      <td>5916676</td>\n",
       "      <td>4238922</td>\n",
       "      <td>NaN</td>\n",
       "      <td>NaN</td>\n",
       "      <td>NaN</td>\n",
       "    </tr>\n",
       "  </tbody>\n",
       "</table>\n",
       "<p>4800 rows × 6 columns</p>\n",
       "</div>"
      ],
      "text/plain": [
       "            first_dose_l  second_dose_l  third_dose_l  first_dose_r  \\\n",
       "date                                                                  \n",
       "2021-06-22       5520990        5167077             0    11039693.0   \n",
       "2021-06-23       5531571        5168241             0    11060851.0   \n",
       "2021-06-24       5543452        5169582             0    11084607.0   \n",
       "2021-06-25       5550417        5170385             0    11098517.0   \n",
       "2021-06-26       5552616        5170512             0    11102879.0   \n",
       "...                  ...            ...           ...           ...   \n",
       "2021-12-28       6535688        5901291       4217518    12839795.0   \n",
       "2021-12-28       6537340        5902956       4219217    12839795.0   \n",
       "2021-12-29       6547908        5909606       4227734           NaN   \n",
       "2021-12-29       6539014        5904296       4222099           NaN   \n",
       "2021-12-30       6558081        5916676       4238922           NaN   \n",
       "\n",
       "            second_dose_r  third_dose_r  \n",
       "date                                     \n",
       "2021-06-22     10332325.0           0.0  \n",
       "2021-06-23     10334637.0           0.0  \n",
       "2021-06-24     10337313.0           0.0  \n",
       "2021-06-25     10338889.0           0.0  \n",
       "2021-06-26     10339108.0           0.0  \n",
       "...                   ...           ...  \n",
       "2021-12-28     11662185.0     8217390.0  \n",
       "2021-12-28     11662185.0     8217390.0  \n",
       "2021-12-29            NaN           NaN  \n",
       "2021-12-29            NaN           NaN  \n",
       "2021-12-30            NaN           NaN  \n",
       "\n",
       "[4800 rows x 6 columns]"
      ]
     },
     "execution_count": 56,
     "metadata": {},
     "output_type": "execute_result"
    }
   ],
   "source": [
    "joint"
   ]
  },
  {
   "cell_type": "markdown",
   "id": "bdd3c173-8344-4535-8dd6-67bc1efe83b5",
   "metadata": {},
   "source": [
    "Number of ppl w. third dose: 4179311\n",
    "How many ppl are there? above, say, 10"
   ]
  },
  {
   "cell_type": "code",
   "execution_count": 294,
   "id": "3bc1d3c3-fc4b-46ac-a7b1-5702f41f5dba",
   "metadata": {},
   "outputs": [],
   "source": [
    "population_per_year = client.query(f'''\n",
    "select year, age, population\n",
    "from `coviddatail.staging.population_table`\n",
    "where age <> 'total' and safe_cast(age AS NUMERIC) > 10\n",
    "and sex='total'\n",
    "and county='total'\n",
    "and area='total'\n",
    "order by year\n",
    "'''\n",
    ").to_dataframe()"
   ]
  },
  {
   "cell_type": "code",
   "execution_count": 295,
   "id": "93f0b98e-6365-47ff-998a-39859f65e049",
   "metadata": {},
   "outputs": [],
   "source": [
    "population_per_year = population_per_year.astype(float)"
   ]
  },
  {
   "cell_type": "code",
   "execution_count": 248,
   "id": "ab9f64c7-c4f2-4116-9a39-23249d75f0d1",
   "metadata": {},
   "outputs": [],
   "source": [
    "population_per_year_above_ten = population_per_year.loc[population_per_year.age.astype(float) > 10, :]"
   ]
  },
  {
   "cell_type": "code",
   "execution_count": 296,
   "id": "cfca3303-f756-4590-a173-9808ee94d5cf",
   "metadata": {},
   "outputs": [],
   "source": [
    "pop2019 = population_per_year.loc[population_per_year.year == 2019,:]"
   ]
  },
  {
   "cell_type": "code",
   "execution_count": 303,
   "id": "6b3e5cfe-bb8d-4874-a41b-2df8480572e9",
   "metadata": {},
   "outputs": [],
   "source": [
    "pop2018 = population_per_year.loc[population_per_year.year == 2018,:]"
   ]
  },
  {
   "cell_type": "code",
   "execution_count": 301,
   "id": "e5e0ba09-8040-463d-b41d-e44272c154ae",
   "metadata": {},
   "outputs": [],
   "source": [
    "total_pop_2019_above_10 = pop2019.sort_values(by='age').sum().population"
   ]
  },
  {
   "cell_type": "code",
   "execution_count": 304,
   "id": "b1a4feff-a555-4649-b5ba-0db0a1d2dc93",
   "metadata": {},
   "outputs": [],
   "source": [
    "total_pop_2018_above_10 = pop2018.sort_values(by='age').sum().population"
   ]
  },
  {
   "cell_type": "code",
   "execution_count": 306,
   "id": "a3fb3ea3-c216-4e46-ba3a-16c93e143e7a",
   "metadata": {},
   "outputs": [
    {
     "data": {
      "text/plain": [
       "7476155.0"
      ]
     },
     "execution_count": 306,
     "metadata": {},
     "output_type": "execute_result"
    }
   ],
   "source": [
    "total_pop_2019_above_10 + 2*(total_pop_2019_above_10 - total_pop_2018_above_10)"
   ]
  },
  {
   "cell_type": "code",
   "execution_count": 282,
   "id": "30115939-9b9b-442d-a672-5feed6630c0c",
   "metadata": {},
   "outputs": [
    {
     "data": {
      "text/html": [
       "<div>\n",
       "<style scoped>\n",
       "    .dataframe tbody tr th:only-of-type {\n",
       "        vertical-align: middle;\n",
       "    }\n",
       "\n",
       "    .dataframe tbody tr th {\n",
       "        vertical-align: top;\n",
       "    }\n",
       "\n",
       "    .dataframe thead th {\n",
       "        text-align: right;\n",
       "    }\n",
       "</style>\n",
       "<table border=\"1\" class=\"dataframe\">\n",
       "  <thead>\n",
       "    <tr style=\"text-align: right;\">\n",
       "      <th></th>\n",
       "      <th>age</th>\n",
       "      <th>population</th>\n",
       "    </tr>\n",
       "    <tr>\n",
       "      <th>year</th>\n",
       "      <th></th>\n",
       "      <th></th>\n",
       "    </tr>\n",
       "  </thead>\n",
       "  <tbody>\n",
       "    <tr>\n",
       "      <th>2000</th>\n",
       "      <td>3781</td>\n",
       "      <td>4140391</td>\n",
       "    </tr>\n",
       "    <tr>\n",
       "      <th>2001</th>\n",
       "      <td>3750</td>\n",
       "      <td>4022540</td>\n",
       "    </tr>\n",
       "    <tr>\n",
       "      <th>2002</th>\n",
       "      <td>3806</td>\n",
       "      <td>4440519</td>\n",
       "    </tr>\n",
       "    <tr>\n",
       "      <th>2003</th>\n",
       "      <td>3813</td>\n",
       "      <td>4501437</td>\n",
       "    </tr>\n",
       "    <tr>\n",
       "      <th>2004</th>\n",
       "      <td>3936</td>\n",
       "      <td>4828680</td>\n",
       "    </tr>\n",
       "    <tr>\n",
       "      <th>2005</th>\n",
       "      <td>3720</td>\n",
       "      <td>4235584</td>\n",
       "    </tr>\n",
       "    <tr>\n",
       "      <th>2006</th>\n",
       "      <td>3722</td>\n",
       "      <td>4329209</td>\n",
       "    </tr>\n",
       "    <tr>\n",
       "      <th>2007</th>\n",
       "      <td>3575</td>\n",
       "      <td>3742370</td>\n",
       "    </tr>\n",
       "    <tr>\n",
       "      <th>2008</th>\n",
       "      <td>2984</td>\n",
       "      <td>3003347</td>\n",
       "    </tr>\n",
       "    <tr>\n",
       "      <th>2009</th>\n",
       "      <td>2860</td>\n",
       "      <td>2638450</td>\n",
       "    </tr>\n",
       "    <tr>\n",
       "      <th>2010</th>\n",
       "      <td>3033</td>\n",
       "      <td>2867548</td>\n",
       "    </tr>\n",
       "    <tr>\n",
       "      <th>2011</th>\n",
       "      <td>3196</td>\n",
       "      <td>3286979</td>\n",
       "    </tr>\n",
       "    <tr>\n",
       "      <th>2012</th>\n",
       "      <td>3302</td>\n",
       "      <td>3666723</td>\n",
       "    </tr>\n",
       "    <tr>\n",
       "      <th>2013</th>\n",
       "      <td>3312</td>\n",
       "      <td>3546027</td>\n",
       "    </tr>\n",
       "    <tr>\n",
       "      <th>2014</th>\n",
       "      <td>3250</td>\n",
       "      <td>3599029</td>\n",
       "    </tr>\n",
       "    <tr>\n",
       "      <th>2015</th>\n",
       "      <td>3158</td>\n",
       "      <td>3145534</td>\n",
       "    </tr>\n",
       "    <tr>\n",
       "      <th>2016</th>\n",
       "      <td>3288</td>\n",
       "      <td>3682195</td>\n",
       "    </tr>\n",
       "    <tr>\n",
       "      <th>2017</th>\n",
       "      <td>3174</td>\n",
       "      <td>3455933</td>\n",
       "    </tr>\n",
       "    <tr>\n",
       "      <th>2018</th>\n",
       "      <td>2980</td>\n",
       "      <td>3138364</td>\n",
       "    </tr>\n",
       "    <tr>\n",
       "      <th>2019</th>\n",
       "      <td>2933</td>\n",
       "      <td>2923684</td>\n",
       "    </tr>\n",
       "  </tbody>\n",
       "</table>\n",
       "</div>"
      ],
      "text/plain": [
       "       age  population\n",
       "year                  \n",
       "2000  3781     4140391\n",
       "2001  3750     4022540\n",
       "2002  3806     4440519\n",
       "2003  3813     4501437\n",
       "2004  3936     4828680\n",
       "2005  3720     4235584\n",
       "2006  3722     4329209\n",
       "2007  3575     3742370\n",
       "2008  2984     3003347\n",
       "2009  2860     2638450\n",
       "2010  3033     2867548\n",
       "2011  3196     3286979\n",
       "2012  3302     3666723\n",
       "2013  3312     3546027\n",
       "2014  3250     3599029\n",
       "2015  3158     3145534\n",
       "2016  3288     3682195\n",
       "2017  3174     3455933\n",
       "2018  2980     3138364\n",
       "2019  2933     2923684"
      ]
     },
     "execution_count": 282,
     "metadata": {},
     "output_type": "execute_result"
    }
   ],
   "source": [
    "population_per_year.groupby('year').sum()"
   ]
  },
  {
   "cell_type": "code",
   "execution_count": 274,
   "id": "de9e44d6-921d-4e17-8804-f6fa475c21d3",
   "metadata": {},
   "outputs": [
    {
     "data": {
      "text/plain": [
       "'1330831161881092801101791070761033928410483057815407886278859809377829477166760377542976337739377469575062744257329665728652597084264367509694319537652358203765338622386824010240277364963357230907270452365222816201501953317817166091420412040913833166'"
      ]
     },
     "execution_count": 274,
     "metadata": {},
     "output_type": "execute_result"
    }
   ],
   "source": [
    "_.population.sum()"
   ]
  },
  {
   "cell_type": "code",
   "execution_count": 258,
   "id": "0639137d-6182-4c33-8ae6-43d8f1f7ccb2",
   "metadata": {},
   "outputs": [
    {
     "data": {
      "text/plain": [
       "3         11\n",
       "4         12\n",
       "5         13\n",
       "6         14\n",
       "7         15\n",
       "        ... \n",
       "1454    54.0\n",
       "1545    55.0\n",
       "1637    85.0\n",
       "1727    84.0\n",
       "1817    51.0\n",
       "Name: age, Length: 140, dtype: object"
      ]
     },
     "execution_count": 258,
     "metadata": {},
     "output_type": "execute_result"
    }
   ],
   "source": [
    "\n",
    "population_per_year_above_ten.age.drop_duplicates()"
   ]
  },
  {
   "cell_type": "code",
   "execution_count": 259,
   "id": "6ecc6b02-5613-46e8-a7b8-4722e18d4e52",
   "metadata": {},
   "outputs": [
    {
     "data": {
      "text/plain": [
       "(140,)"
      ]
     },
     "execution_count": 259,
     "metadata": {},
     "output_type": "execute_result"
    }
   ],
   "source": [
    "_.shape"
   ]
  },
  {
   "cell_type": "code",
   "execution_count": 307,
   "id": "4fca3070-ff1d-4bdc-a393-0b61efb14fda",
   "metadata": {},
   "outputs": [
    {
     "data": {
      "text/plain": [
       "0.5590187736878115"
      ]
     },
     "execution_count": 307,
     "metadata": {},
     "output_type": "execute_result"
    }
   ],
   "source": [
    "4179311 / 7476155"
   ]
  },
  {
   "cell_type": "code",
   "execution_count": null,
   "id": "0ddf2226-8fbf-404e-b47a-49e874ebe700",
   "metadata": {},
   "outputs": [],
   "source": []
  }
 ],
 "metadata": {
  "kernelspec": {
   "display_name": "Python 3 (ipykernel)",
   "language": "python",
   "name": "python3"
  },
  "language_info": {
   "codemirror_mode": {
    "name": "ipython",
    "version": 3
   },
   "file_extension": ".py",
   "mimetype": "text/x-python",
   "name": "python",
   "nbconvert_exporter": "python",
   "pygments_lexer": "ipython3",
   "version": "3.9.7"
  }
 },
 "nbformat": 4,
 "nbformat_minor": 5
}
