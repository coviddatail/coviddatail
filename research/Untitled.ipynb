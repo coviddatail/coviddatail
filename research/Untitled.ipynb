{
 "cells": [
  {
   "cell_type": "code",
   "execution_count": 3,
   "id": "de166ce0-a0f9-49ec-96a5-fa278a085d0c",
   "metadata": {},
   "outputs": [],
   "source": [
    "from google.cloud.bigquery import *\n",
    "import pandas as pd"
   ]
  },
  {
   "cell_type": "code",
   "execution_count": 5,
   "id": "e40e13d4-daa1-455e-aba1-844f2ac17720",
   "metadata": {},
   "outputs": [],
   "source": [
    "from utils.bqutils import connect"
   ]
  },
  {
   "cell_type": "code",
   "execution_count": 6,
   "id": "d388d83a-b2c9-4d1e-ad75-343c2cc68c25",
   "metadata": {},
   "outputs": [],
   "source": [
    "client = connect('bqresearch')"
   ]
  },
  {
   "cell_type": "code",
   "execution_count": 10,
   "id": "6a8d32ec-b2a3-47c2-be38-8a08941ba992",
   "metadata": {},
   "outputs": [],
   "source": [
    "info_schema = client.query('''\n",
    "SELECT table_catalog,table_schema,table_name, column_name, ordinal_position\n",
    "FROM staging.INFORMATION_SCHEMA.COLUMNS;\n",
    "''').to_dataframe()"
   ]
  },
  {
   "cell_type": "code",
   "execution_count": 11,
   "id": "9add7107-2bbc-4efa-bd9b-69d423d40dbc",
   "metadata": {},
   "outputs": [
    {
     "data": {
      "text/html": [
       "<div>\n",
       "<style scoped>\n",
       "    .dataframe tbody tr th:only-of-type {\n",
       "        vertical-align: middle;\n",
       "    }\n",
       "\n",
       "    .dataframe tbody tr th {\n",
       "        vertical-align: top;\n",
       "    }\n",
       "\n",
       "    .dataframe thead th {\n",
       "        text-align: right;\n",
       "    }\n",
       "</style>\n",
       "<table border=\"1\" class=\"dataframe\">\n",
       "  <thead>\n",
       "    <tr style=\"text-align: right;\">\n",
       "      <th></th>\n",
       "      <th>table_catalog</th>\n",
       "      <th>table_schema</th>\n",
       "      <th>table_name</th>\n",
       "      <th>column_name</th>\n",
       "      <th>ordinal_position</th>\n",
       "    </tr>\n",
       "  </thead>\n",
       "  <tbody>\n",
       "    <tr>\n",
       "      <th>0</th>\n",
       "      <td>coviddatail</td>\n",
       "      <td>staging</td>\n",
       "      <td>covid19_by_area</td>\n",
       "      <td>_id</td>\n",
       "      <td>1</td>\n",
       "    </tr>\n",
       "    <tr>\n",
       "      <th>1</th>\n",
       "      <td>coviddatail</td>\n",
       "      <td>staging</td>\n",
       "      <td>covid19_by_area</td>\n",
       "      <td>town_code</td>\n",
       "      <td>2</td>\n",
       "    </tr>\n",
       "    <tr>\n",
       "      <th>2</th>\n",
       "      <td>coviddatail</td>\n",
       "      <td>staging</td>\n",
       "      <td>covid19_by_area</td>\n",
       "      <td>agas_code</td>\n",
       "      <td>3</td>\n",
       "    </tr>\n",
       "    <tr>\n",
       "      <th>3</th>\n",
       "      <td>coviddatail</td>\n",
       "      <td>staging</td>\n",
       "      <td>covid19_by_area</td>\n",
       "      <td>town</td>\n",
       "      <td>4</td>\n",
       "    </tr>\n",
       "    <tr>\n",
       "      <th>4</th>\n",
       "      <td>coviddatail</td>\n",
       "      <td>staging</td>\n",
       "      <td>covid19_by_area</td>\n",
       "      <td>date</td>\n",
       "      <td>5</td>\n",
       "    </tr>\n",
       "    <tr>\n",
       "      <th>...</th>\n",
       "      <td>...</td>\n",
       "      <td>...</td>\n",
       "      <td>...</td>\n",
       "      <td>...</td>\n",
       "      <td>...</td>\n",
       "    </tr>\n",
       "    <tr>\n",
       "      <th>732</th>\n",
       "      <td>coviddatail</td>\n",
       "      <td>staging</td>\n",
       "      <td>breatheByPeriodAndAgeAndGender</td>\n",
       "      <td>batch_date</td>\n",
       "      <td>8</td>\n",
       "    </tr>\n",
       "    <tr>\n",
       "      <th>733</th>\n",
       "      <td>coviddatail</td>\n",
       "      <td>staging</td>\n",
       "      <td>testsPerDate</td>\n",
       "      <td>date</td>\n",
       "      <td>1</td>\n",
       "    </tr>\n",
       "    <tr>\n",
       "      <th>734</th>\n",
       "      <td>coviddatail</td>\n",
       "      <td>staging</td>\n",
       "      <td>testsPerDate</td>\n",
       "      <td>numResultsForVirusDiagnosis</td>\n",
       "      <td>2</td>\n",
       "    </tr>\n",
       "    <tr>\n",
       "      <th>735</th>\n",
       "      <td>coviddatail</td>\n",
       "      <td>staging</td>\n",
       "      <td>testsPerDate</td>\n",
       "      <td>numAntigenOfficialTest</td>\n",
       "      <td>3</td>\n",
       "    </tr>\n",
       "    <tr>\n",
       "      <th>736</th>\n",
       "      <td>coviddatail</td>\n",
       "      <td>staging</td>\n",
       "      <td>testsPerDate</td>\n",
       "      <td>batch_date</td>\n",
       "      <td>4</td>\n",
       "    </tr>\n",
       "  </tbody>\n",
       "</table>\n",
       "<p>737 rows × 5 columns</p>\n",
       "</div>"
      ],
      "text/plain": [
       "    table_catalog table_schema                      table_name  \\\n",
       "0     coviddatail      staging                 covid19_by_area   \n",
       "1     coviddatail      staging                 covid19_by_area   \n",
       "2     coviddatail      staging                 covid19_by_area   \n",
       "3     coviddatail      staging                 covid19_by_area   \n",
       "4     coviddatail      staging                 covid19_by_area   \n",
       "..            ...          ...                             ...   \n",
       "732   coviddatail      staging  breatheByPeriodAndAgeAndGender   \n",
       "733   coviddatail      staging                    testsPerDate   \n",
       "734   coviddatail      staging                    testsPerDate   \n",
       "735   coviddatail      staging                    testsPerDate   \n",
       "736   coviddatail      staging                    testsPerDate   \n",
       "\n",
       "                     column_name  ordinal_position  \n",
       "0                            _id                 1  \n",
       "1                      town_code                 2  \n",
       "2                      agas_code                 3  \n",
       "3                           town                 4  \n",
       "4                           date                 5  \n",
       "..                           ...               ...  \n",
       "732                   batch_date                 8  \n",
       "733                         date                 1  \n",
       "734  numResultsForVirusDiagnosis                 2  \n",
       "735       numAntigenOfficialTest                 3  \n",
       "736                   batch_date                 4  \n",
       "\n",
       "[737 rows x 5 columns]"
      ]
     },
     "execution_count": 11,
     "metadata": {},
     "output_type": "execute_result"
    }
   ],
   "source": [
    "info_schema.itertuples("
   ]
  },
  {
   "cell_type": "code",
   "execution_count": 37,
   "id": "3c8e2605-bfb9-4470-b86d-bbecbf5eaa29",
   "metadata": {},
   "outputs": [],
   "source": [
    "            "
   ]
  },
  {
   "cell_type": "code",
   "execution_count": 39,
   "id": "f48995bd-b8c7-42a4-9267-c1f02748c5c3",
   "metadata": {},
   "outputs": [],
   "source": [
    "ci = CatalogIndex(info_schema)"
   ]
  },
  {
   "cell_type": "code",
   "execution_count": 40,
   "id": "07c09583-b669-43e7-ba49-585cc1a84592",
   "metadata": {},
   "outputs": [
    {
     "data": {
      "text/plain": [
       "['coviddatail']"
      ]
     },
     "execution_count": 40,
     "metadata": {},
     "output_type": "execute_result"
    }
   ],
   "source": [
    "dir(ci)"
   ]
  },
  {
   "cell_type": "code",
   "execution_count": 45,
   "id": "0c177ae3-4254-4c8f-9403-f7865bd74020",
   "metadata": {},
   "outputs": [
    {
     "data": {
      "text/plain": [
       "'age_25_29'"
      ]
     },
     "execution_count": 45,
     "metadata": {},
     "output_type": "execute_result"
    }
   ],
   "source": [
    "ci.coviddatail.staging.death_report_1.age_25_29"
   ]
  },
  {
   "cell_type": "code",
   "execution_count": null,
   "id": "adcbeeba-a056-47e3-bd66-91656febb6e7",
   "metadata": {},
   "outputs": [],
   "source": []
  }
 ],
 "metadata": {
  "kernelspec": {
   "display_name": "Python 3 (ipykernel)",
   "language": "python",
   "name": "python3"
  },
  "language_info": {
   "codemirror_mode": {
    "name": "ipython",
    "version": 3
   },
   "file_extension": ".py",
   "mimetype": "text/x-python",
   "name": "python",
   "nbconvert_exporter": "python",
   "pygments_lexer": "ipython3",
   "version": "3.9.7"
  }
 },
 "nbformat": 4,
 "nbformat_minor": 5
}
